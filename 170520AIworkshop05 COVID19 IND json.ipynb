{
 "cells": [
  {
   "cell_type": "code",
   "execution_count": 1,
   "metadata": {},
   "outputs": [],
   "source": [
    "import numpy as np\n",
    "import matplotlib.pyplot as plt\n",
    "import seaborn as sns\n",
    "import requests\n",
    "import pandas as pd"
   ]
  },
  {
   "cell_type": "code",
   "execution_count": 2,
   "metadata": {},
   "outputs": [],
   "source": [
    "inddata = requests.get('https://raw.githubusercontent.com/CarmineCrown/COVID-19/master/covid_19_datasets/covid19_india/india_statewise.json').json()"
   ]
  },
  {
   "cell_type": "code",
   "execution_count": 3,
   "metadata": {},
   "outputs": [
    {
     "output_type": "execute_result",
     "data": {
      "text/plain": "{'success': True,\n 'data': {'source': 'covid19india.org',\n  'lastRefreshed': '2020-05-03T03:30:20.698Z',\n  'total': {'confirmed': 39699,\n   'recovered': 10828,\n   'deaths': 1323,\n   'active': 27544},\n  'statewise': [{'state': 'Maharashtra',\n    'confirmed': 12296,\n    'recovered': 2000,\n    'deaths': 521,\n    'active': 9775},\n   {'state': 'Gujarat',\n    'confirmed': 5054,\n    'recovered': 896,\n    'deaths': 262,\n    'active': 3896},\n   {'state': 'Delhi',\n    'confirmed': 4122,\n    'recovered': 1256,\n    'deaths': 64,\n    'active': 2802},\n   {'state': 'Madhya Pradesh',\n    'confirmed': 2788,\n    'recovered': 622,\n    'deaths': 151,\n    'active': 2015},\n   {'state': 'Rajasthan',\n    'confirmed': 2772,\n    'recovered': 1242,\n    'deaths': 68,\n    'active': 1462},\n   {'state': 'Tamil Nadu',\n    'confirmed': 2757,\n    'recovered': 1341,\n    'deaths': 29,\n    'active': 1387},\n   {'state': 'Uttar Pradesh',\n    'confirmed': 2487,\n    'recovered': 698,\n    'deaths': 43,\n    'active': 1746},\n   {'state': 'Andhra Pradesh',\n    'confirmed': 1525,\n    'recovered': 441,\n    'deaths': 33,\n    'active': 1051},\n   {'state': 'Telangana',\n    'confirmed': 1061,\n    'recovered': 499,\n    'deaths': 29,\n    'active': 533},\n   {'state': 'West Bengal',\n    'confirmed': 795,\n    'recovered': 139,\n    'deaths': 48,\n    'active': 608},\n   {'state': 'Jammu and Kashmir',\n    'confirmed': 666,\n    'recovered': 254,\n    'deaths': 8,\n    'active': 404},\n   {'state': 'Karnataka',\n    'confirmed': 601,\n    'recovered': 271,\n    'deaths': 25,\n    'active': 304},\n   {'state': 'Kerala',\n    'confirmed': 500,\n    'recovered': 400,\n    'deaths': 4,\n    'active': 96},\n   {'state': 'Bihar',\n    'confirmed': 481,\n    'recovered': 107,\n    'deaths': 4,\n    'active': 370},\n   {'state': 'Punjab',\n    'confirmed': 772,\n    'recovered': 112,\n    'deaths': 20,\n    'active': 640},\n   {'state': 'Haryana',\n    'confirmed': 376,\n    'recovered': 242,\n    'deaths': 5,\n    'active': 129},\n   {'state': 'Odisha',\n    'confirmed': 157,\n    'recovered': 56,\n    'deaths': 1,\n    'active': 100},\n   {'state': 'Jharkhand',\n    'confirmed': 115,\n    'recovered': 22,\n    'deaths': 3,\n    'active': 90},\n   {'state': 'Chandigarh',\n    'confirmed': 94,\n    'recovered': 19,\n    'deaths': 0,\n    'active': 75},\n   {'state': 'Uttarakhand',\n    'confirmed': 59,\n    'recovered': 39,\n    'deaths': 1,\n    'active': 19},\n   {'state': 'Himachal Pradesh',\n    'confirmed': 40,\n    'recovered': 33,\n    'deaths': 2,\n    'active': 2},\n   {'state': 'Assam',\n    'confirmed': 43,\n    'recovered': 33,\n    'deaths': 1,\n    'active': 9},\n   {'state': 'Chhattisgarh',\n    'confirmed': 43,\n    'recovered': 36,\n    'deaths': 0,\n    'active': 7},\n   {'state': 'Andaman and Nicobar Islands',\n    'confirmed': 33,\n    'recovered': 26,\n    'deaths': 0,\n    'active': 7},\n   {'state': 'Ladakh',\n    'confirmed': 23,\n    'recovered': 17,\n    'deaths': 0,\n    'active': 6},\n   {'state': 'Meghalaya',\n    'confirmed': 12,\n    'recovered': 10,\n    'deaths': 1,\n    'active': 1},\n   {'state': 'Puducherry',\n    'confirmed': 12,\n    'recovered': 5,\n    'deaths': 0,\n    'active': 7},\n   {'state': 'Goa', 'confirmed': 7, 'recovered': 7, 'deaths': 0, 'active': 0},\n   {'state': 'Manipur',\n    'confirmed': 2,\n    'recovered': 2,\n    'deaths': 0,\n    'active': 0},\n   {'state': 'Tripura',\n    'confirmed': 4,\n    'recovered': 2,\n    'deaths': 0,\n    'active': 2},\n   {'state': 'Mizoram',\n    'confirmed': 1,\n    'recovered': 0,\n    'deaths': 0,\n    'active': 1},\n   {'state': 'Arunachal Pradesh',\n    'confirmed': 1,\n    'recovered': 1,\n    'deaths': 0,\n    'active': 0},\n   {'state': 'Nagaland',\n    'confirmed': 0,\n    'recovered': 0,\n    'deaths': 0,\n    'active': 0},\n   {'state': 'Dadra and Nagar Haveli',\n    'confirmed': 0,\n    'recovered': 0,\n    'deaths': 0,\n    'active': 0},\n   {'state': 'Daman and Diu',\n    'confirmed': 0,\n    'recovered': 0,\n    'deaths': 0,\n    'active': 0},\n   {'state': 'Lakshadweep',\n    'confirmed': 0,\n    'recovered': 0,\n    'deaths': 0,\n    'active': 0},\n   {'state': 'Sikkim',\n    'confirmed': 0,\n    'recovered': 0,\n    'deaths': 0,\n    'active': 0}]},\n 'lastRefreshed': '2020-05-03T03:30:20.698Z',\n 'lastOriginUpdate': '2020-05-03T03:30:20.698Z'}"
     },
     "metadata": {},
     "execution_count": 3
    }
   ],
   "source": [
    "inddata"
   ]
  },
  {
   "cell_type": "code",
   "execution_count": 4,
   "metadata": {},
   "outputs": [],
   "source": [
    "dfind = pd.io.json.json_normalize(inddata['data']['statewise'])"
   ]
  },
  {
   "cell_type": "code",
   "execution_count": 5,
   "metadata": {},
   "outputs": [
    {
     "output_type": "execute_result",
     "data": {
      "text/plain": "                          state  confirmed  recovered  deaths  active\n0                   Maharashtra      12296       2000     521    9775\n1                       Gujarat       5054        896     262    3896\n2                         Delhi       4122       1256      64    2802\n3                Madhya Pradesh       2788        622     151    2015\n4                     Rajasthan       2772       1242      68    1462\n5                    Tamil Nadu       2757       1341      29    1387\n6                 Uttar Pradesh       2487        698      43    1746\n7                Andhra Pradesh       1525        441      33    1051\n8                     Telangana       1061        499      29     533\n9                   West Bengal        795        139      48     608\n10            Jammu and Kashmir        666        254       8     404\n11                    Karnataka        601        271      25     304\n12                       Kerala        500        400       4      96\n13                        Bihar        481        107       4     370\n14                       Punjab        772        112      20     640\n15                      Haryana        376        242       5     129\n16                       Odisha        157         56       1     100\n17                    Jharkhand        115         22       3      90\n18                   Chandigarh         94         19       0      75\n19                  Uttarakhand         59         39       1      19\n20             Himachal Pradesh         40         33       2       2\n21                        Assam         43         33       1       9\n22                 Chhattisgarh         43         36       0       7\n23  Andaman and Nicobar Islands         33         26       0       7\n24                       Ladakh         23         17       0       6\n25                    Meghalaya         12         10       1       1\n26                   Puducherry         12          5       0       7\n27                          Goa          7          7       0       0\n28                      Manipur          2          2       0       0\n29                      Tripura          4          2       0       2\n30                      Mizoram          1          0       0       1\n31            Arunachal Pradesh          1          1       0       0\n32                     Nagaland          0          0       0       0\n33       Dadra and Nagar Haveli          0          0       0       0\n34                Daman and Diu          0          0       0       0\n35                  Lakshadweep          0          0       0       0\n36                       Sikkim          0          0       0       0",
      "text/html": "<div>\n<style scoped>\n    .dataframe tbody tr th:only-of-type {\n        vertical-align: middle;\n    }\n\n    .dataframe tbody tr th {\n        vertical-align: top;\n    }\n\n    .dataframe thead th {\n        text-align: right;\n    }\n</style>\n<table border=\"1\" class=\"dataframe\">\n  <thead>\n    <tr style=\"text-align: right;\">\n      <th></th>\n      <th>state</th>\n      <th>confirmed</th>\n      <th>recovered</th>\n      <th>deaths</th>\n      <th>active</th>\n    </tr>\n  </thead>\n  <tbody>\n    <tr>\n      <th>0</th>\n      <td>Maharashtra</td>\n      <td>12296</td>\n      <td>2000</td>\n      <td>521</td>\n      <td>9775</td>\n    </tr>\n    <tr>\n      <th>1</th>\n      <td>Gujarat</td>\n      <td>5054</td>\n      <td>896</td>\n      <td>262</td>\n      <td>3896</td>\n    </tr>\n    <tr>\n      <th>2</th>\n      <td>Delhi</td>\n      <td>4122</td>\n      <td>1256</td>\n      <td>64</td>\n      <td>2802</td>\n    </tr>\n    <tr>\n      <th>3</th>\n      <td>Madhya Pradesh</td>\n      <td>2788</td>\n      <td>622</td>\n      <td>151</td>\n      <td>2015</td>\n    </tr>\n    <tr>\n      <th>4</th>\n      <td>Rajasthan</td>\n      <td>2772</td>\n      <td>1242</td>\n      <td>68</td>\n      <td>1462</td>\n    </tr>\n    <tr>\n      <th>5</th>\n      <td>Tamil Nadu</td>\n      <td>2757</td>\n      <td>1341</td>\n      <td>29</td>\n      <td>1387</td>\n    </tr>\n    <tr>\n      <th>6</th>\n      <td>Uttar Pradesh</td>\n      <td>2487</td>\n      <td>698</td>\n      <td>43</td>\n      <td>1746</td>\n    </tr>\n    <tr>\n      <th>7</th>\n      <td>Andhra Pradesh</td>\n      <td>1525</td>\n      <td>441</td>\n      <td>33</td>\n      <td>1051</td>\n    </tr>\n    <tr>\n      <th>8</th>\n      <td>Telangana</td>\n      <td>1061</td>\n      <td>499</td>\n      <td>29</td>\n      <td>533</td>\n    </tr>\n    <tr>\n      <th>9</th>\n      <td>West Bengal</td>\n      <td>795</td>\n      <td>139</td>\n      <td>48</td>\n      <td>608</td>\n    </tr>\n    <tr>\n      <th>10</th>\n      <td>Jammu and Kashmir</td>\n      <td>666</td>\n      <td>254</td>\n      <td>8</td>\n      <td>404</td>\n    </tr>\n    <tr>\n      <th>11</th>\n      <td>Karnataka</td>\n      <td>601</td>\n      <td>271</td>\n      <td>25</td>\n      <td>304</td>\n    </tr>\n    <tr>\n      <th>12</th>\n      <td>Kerala</td>\n      <td>500</td>\n      <td>400</td>\n      <td>4</td>\n      <td>96</td>\n    </tr>\n    <tr>\n      <th>13</th>\n      <td>Bihar</td>\n      <td>481</td>\n      <td>107</td>\n      <td>4</td>\n      <td>370</td>\n    </tr>\n    <tr>\n      <th>14</th>\n      <td>Punjab</td>\n      <td>772</td>\n      <td>112</td>\n      <td>20</td>\n      <td>640</td>\n    </tr>\n    <tr>\n      <th>15</th>\n      <td>Haryana</td>\n      <td>376</td>\n      <td>242</td>\n      <td>5</td>\n      <td>129</td>\n    </tr>\n    <tr>\n      <th>16</th>\n      <td>Odisha</td>\n      <td>157</td>\n      <td>56</td>\n      <td>1</td>\n      <td>100</td>\n    </tr>\n    <tr>\n      <th>17</th>\n      <td>Jharkhand</td>\n      <td>115</td>\n      <td>22</td>\n      <td>3</td>\n      <td>90</td>\n    </tr>\n    <tr>\n      <th>18</th>\n      <td>Chandigarh</td>\n      <td>94</td>\n      <td>19</td>\n      <td>0</td>\n      <td>75</td>\n    </tr>\n    <tr>\n      <th>19</th>\n      <td>Uttarakhand</td>\n      <td>59</td>\n      <td>39</td>\n      <td>1</td>\n      <td>19</td>\n    </tr>\n    <tr>\n      <th>20</th>\n      <td>Himachal Pradesh</td>\n      <td>40</td>\n      <td>33</td>\n      <td>2</td>\n      <td>2</td>\n    </tr>\n    <tr>\n      <th>21</th>\n      <td>Assam</td>\n      <td>43</td>\n      <td>33</td>\n      <td>1</td>\n      <td>9</td>\n    </tr>\n    <tr>\n      <th>22</th>\n      <td>Chhattisgarh</td>\n      <td>43</td>\n      <td>36</td>\n      <td>0</td>\n      <td>7</td>\n    </tr>\n    <tr>\n      <th>23</th>\n      <td>Andaman and Nicobar Islands</td>\n      <td>33</td>\n      <td>26</td>\n      <td>0</td>\n      <td>7</td>\n    </tr>\n    <tr>\n      <th>24</th>\n      <td>Ladakh</td>\n      <td>23</td>\n      <td>17</td>\n      <td>0</td>\n      <td>6</td>\n    </tr>\n    <tr>\n      <th>25</th>\n      <td>Meghalaya</td>\n      <td>12</td>\n      <td>10</td>\n      <td>1</td>\n      <td>1</td>\n    </tr>\n    <tr>\n      <th>26</th>\n      <td>Puducherry</td>\n      <td>12</td>\n      <td>5</td>\n      <td>0</td>\n      <td>7</td>\n    </tr>\n    <tr>\n      <th>27</th>\n      <td>Goa</td>\n      <td>7</td>\n      <td>7</td>\n      <td>0</td>\n      <td>0</td>\n    </tr>\n    <tr>\n      <th>28</th>\n      <td>Manipur</td>\n      <td>2</td>\n      <td>2</td>\n      <td>0</td>\n      <td>0</td>\n    </tr>\n    <tr>\n      <th>29</th>\n      <td>Tripura</td>\n      <td>4</td>\n      <td>2</td>\n      <td>0</td>\n      <td>2</td>\n    </tr>\n    <tr>\n      <th>30</th>\n      <td>Mizoram</td>\n      <td>1</td>\n      <td>0</td>\n      <td>0</td>\n      <td>1</td>\n    </tr>\n    <tr>\n      <th>31</th>\n      <td>Arunachal Pradesh</td>\n      <td>1</td>\n      <td>1</td>\n      <td>0</td>\n      <td>0</td>\n    </tr>\n    <tr>\n      <th>32</th>\n      <td>Nagaland</td>\n      <td>0</td>\n      <td>0</td>\n      <td>0</td>\n      <td>0</td>\n    </tr>\n    <tr>\n      <th>33</th>\n      <td>Dadra and Nagar Haveli</td>\n      <td>0</td>\n      <td>0</td>\n      <td>0</td>\n      <td>0</td>\n    </tr>\n    <tr>\n      <th>34</th>\n      <td>Daman and Diu</td>\n      <td>0</td>\n      <td>0</td>\n      <td>0</td>\n      <td>0</td>\n    </tr>\n    <tr>\n      <th>35</th>\n      <td>Lakshadweep</td>\n      <td>0</td>\n      <td>0</td>\n      <td>0</td>\n      <td>0</td>\n    </tr>\n    <tr>\n      <th>36</th>\n      <td>Sikkim</td>\n      <td>0</td>\n      <td>0</td>\n      <td>0</td>\n      <td>0</td>\n    </tr>\n  </tbody>\n</table>\n</div>"
     },
     "metadata": {},
     "execution_count": 5
    }
   ],
   "source": [
    "dfind"
   ]
  },
  {
   "cell_type": "code",
   "execution_count": 6,
   "metadata": {},
   "outputs": [],
   "source": [
    "dfind.set_index('state', inplace = True)"
   ]
  },
  {
   "cell_type": "code",
   "execution_count": 7,
   "metadata": {},
   "outputs": [
    {
     "output_type": "execute_result",
     "data": {
      "text/plain": "                             confirmed  recovered  deaths  active\nstate                                                            \nMaharashtra                      12296       2000     521    9775\nGujarat                           5054        896     262    3896\nDelhi                             4122       1256      64    2802\nMadhya Pradesh                    2788        622     151    2015\nRajasthan                         2772       1242      68    1462\nTamil Nadu                        2757       1341      29    1387\nUttar Pradesh                     2487        698      43    1746\nAndhra Pradesh                    1525        441      33    1051\nTelangana                         1061        499      29     533\nWest Bengal                        795        139      48     608\nJammu and Kashmir                  666        254       8     404\nKarnataka                          601        271      25     304\nKerala                             500        400       4      96\nBihar                              481        107       4     370\nPunjab                             772        112      20     640\nHaryana                            376        242       5     129\nOdisha                             157         56       1     100\nJharkhand                          115         22       3      90\nChandigarh                          94         19       0      75\nUttarakhand                         59         39       1      19\nHimachal Pradesh                    40         33       2       2\nAssam                               43         33       1       9\nChhattisgarh                        43         36       0       7\nAndaman and Nicobar Islands         33         26       0       7\nLadakh                              23         17       0       6\nMeghalaya                           12         10       1       1\nPuducherry                          12          5       0       7\nGoa                                  7          7       0       0\nManipur                              2          2       0       0\nTripura                              4          2       0       2\nMizoram                              1          0       0       1\nArunachal Pradesh                    1          1       0       0\nNagaland                             0          0       0       0\nDadra and Nagar Haveli               0          0       0       0\nDaman and Diu                        0          0       0       0\nLakshadweep                          0          0       0       0\nSikkim                               0          0       0       0",
      "text/html": "<div>\n<style scoped>\n    .dataframe tbody tr th:only-of-type {\n        vertical-align: middle;\n    }\n\n    .dataframe tbody tr th {\n        vertical-align: top;\n    }\n\n    .dataframe thead th {\n        text-align: right;\n    }\n</style>\n<table border=\"1\" class=\"dataframe\">\n  <thead>\n    <tr style=\"text-align: right;\">\n      <th></th>\n      <th>confirmed</th>\n      <th>recovered</th>\n      <th>deaths</th>\n      <th>active</th>\n    </tr>\n    <tr>\n      <th>state</th>\n      <th></th>\n      <th></th>\n      <th></th>\n      <th></th>\n    </tr>\n  </thead>\n  <tbody>\n    <tr>\n      <th>Maharashtra</th>\n      <td>12296</td>\n      <td>2000</td>\n      <td>521</td>\n      <td>9775</td>\n    </tr>\n    <tr>\n      <th>Gujarat</th>\n      <td>5054</td>\n      <td>896</td>\n      <td>262</td>\n      <td>3896</td>\n    </tr>\n    <tr>\n      <th>Delhi</th>\n      <td>4122</td>\n      <td>1256</td>\n      <td>64</td>\n      <td>2802</td>\n    </tr>\n    <tr>\n      <th>Madhya Pradesh</th>\n      <td>2788</td>\n      <td>622</td>\n      <td>151</td>\n      <td>2015</td>\n    </tr>\n    <tr>\n      <th>Rajasthan</th>\n      <td>2772</td>\n      <td>1242</td>\n      <td>68</td>\n      <td>1462</td>\n    </tr>\n    <tr>\n      <th>Tamil Nadu</th>\n      <td>2757</td>\n      <td>1341</td>\n      <td>29</td>\n      <td>1387</td>\n    </tr>\n    <tr>\n      <th>Uttar Pradesh</th>\n      <td>2487</td>\n      <td>698</td>\n      <td>43</td>\n      <td>1746</td>\n    </tr>\n    <tr>\n      <th>Andhra Pradesh</th>\n      <td>1525</td>\n      <td>441</td>\n      <td>33</td>\n      <td>1051</td>\n    </tr>\n    <tr>\n      <th>Telangana</th>\n      <td>1061</td>\n      <td>499</td>\n      <td>29</td>\n      <td>533</td>\n    </tr>\n    <tr>\n      <th>West Bengal</th>\n      <td>795</td>\n      <td>139</td>\n      <td>48</td>\n      <td>608</td>\n    </tr>\n    <tr>\n      <th>Jammu and Kashmir</th>\n      <td>666</td>\n      <td>254</td>\n      <td>8</td>\n      <td>404</td>\n    </tr>\n    <tr>\n      <th>Karnataka</th>\n      <td>601</td>\n      <td>271</td>\n      <td>25</td>\n      <td>304</td>\n    </tr>\n    <tr>\n      <th>Kerala</th>\n      <td>500</td>\n      <td>400</td>\n      <td>4</td>\n      <td>96</td>\n    </tr>\n    <tr>\n      <th>Bihar</th>\n      <td>481</td>\n      <td>107</td>\n      <td>4</td>\n      <td>370</td>\n    </tr>\n    <tr>\n      <th>Punjab</th>\n      <td>772</td>\n      <td>112</td>\n      <td>20</td>\n      <td>640</td>\n    </tr>\n    <tr>\n      <th>Haryana</th>\n      <td>376</td>\n      <td>242</td>\n      <td>5</td>\n      <td>129</td>\n    </tr>\n    <tr>\n      <th>Odisha</th>\n      <td>157</td>\n      <td>56</td>\n      <td>1</td>\n      <td>100</td>\n    </tr>\n    <tr>\n      <th>Jharkhand</th>\n      <td>115</td>\n      <td>22</td>\n      <td>3</td>\n      <td>90</td>\n    </tr>\n    <tr>\n      <th>Chandigarh</th>\n      <td>94</td>\n      <td>19</td>\n      <td>0</td>\n      <td>75</td>\n    </tr>\n    <tr>\n      <th>Uttarakhand</th>\n      <td>59</td>\n      <td>39</td>\n      <td>1</td>\n      <td>19</td>\n    </tr>\n    <tr>\n      <th>Himachal Pradesh</th>\n      <td>40</td>\n      <td>33</td>\n      <td>2</td>\n      <td>2</td>\n    </tr>\n    <tr>\n      <th>Assam</th>\n      <td>43</td>\n      <td>33</td>\n      <td>1</td>\n      <td>9</td>\n    </tr>\n    <tr>\n      <th>Chhattisgarh</th>\n      <td>43</td>\n      <td>36</td>\n      <td>0</td>\n      <td>7</td>\n    </tr>\n    <tr>\n      <th>Andaman and Nicobar Islands</th>\n      <td>33</td>\n      <td>26</td>\n      <td>0</td>\n      <td>7</td>\n    </tr>\n    <tr>\n      <th>Ladakh</th>\n      <td>23</td>\n      <td>17</td>\n      <td>0</td>\n      <td>6</td>\n    </tr>\n    <tr>\n      <th>Meghalaya</th>\n      <td>12</td>\n      <td>10</td>\n      <td>1</td>\n      <td>1</td>\n    </tr>\n    <tr>\n      <th>Puducherry</th>\n      <td>12</td>\n      <td>5</td>\n      <td>0</td>\n      <td>7</td>\n    </tr>\n    <tr>\n      <th>Goa</th>\n      <td>7</td>\n      <td>7</td>\n      <td>0</td>\n      <td>0</td>\n    </tr>\n    <tr>\n      <th>Manipur</th>\n      <td>2</td>\n      <td>2</td>\n      <td>0</td>\n      <td>0</td>\n    </tr>\n    <tr>\n      <th>Tripura</th>\n      <td>4</td>\n      <td>2</td>\n      <td>0</td>\n      <td>2</td>\n    </tr>\n    <tr>\n      <th>Mizoram</th>\n      <td>1</td>\n      <td>0</td>\n      <td>0</td>\n      <td>1</td>\n    </tr>\n    <tr>\n      <th>Arunachal Pradesh</th>\n      <td>1</td>\n      <td>1</td>\n      <td>0</td>\n      <td>0</td>\n    </tr>\n    <tr>\n      <th>Nagaland</th>\n      <td>0</td>\n      <td>0</td>\n      <td>0</td>\n      <td>0</td>\n    </tr>\n    <tr>\n      <th>Dadra and Nagar Haveli</th>\n      <td>0</td>\n      <td>0</td>\n      <td>0</td>\n      <td>0</td>\n    </tr>\n    <tr>\n      <th>Daman and Diu</th>\n      <td>0</td>\n      <td>0</td>\n      <td>0</td>\n      <td>0</td>\n    </tr>\n    <tr>\n      <th>Lakshadweep</th>\n      <td>0</td>\n      <td>0</td>\n      <td>0</td>\n      <td>0</td>\n    </tr>\n    <tr>\n      <th>Sikkim</th>\n      <td>0</td>\n      <td>0</td>\n      <td>0</td>\n      <td>0</td>\n    </tr>\n  </tbody>\n</table>\n</div>"
     },
     "metadata": {},
     "execution_count": 7
    }
   ],
   "source": [
    "dfind"
   ]
  },
  {
   "cell_type": "code",
   "execution_count": 8,
   "metadata": {},
   "outputs": [
    {
     "output_type": "display_data",
     "data": {
      "text/plain": "<Figure size 1080x720 with 1 Axes>",
      "image/svg+xml": "<?xml version=\"1.0\" encoding=\"utf-8\" standalone=\"no\"?>\r\n<!DOCTYPE svg PUBLIC \"-//W3C//DTD SVG 1.1//EN\"\r\n  \"http://www.w3.org/Graphics/SVG/1.1/DTD/svg11.dtd\">\r\n<!-- Created with matplotlib (https://matplotlib.org/) -->\r\n<svg height=\"726.695625pt\" version=\"1.1\" viewBox=\"0 0 899.35 726.695625\" width=\"899.35pt\" xmlns=\"http://www.w3.org/2000/svg\" xmlns:xlink=\"http://www.w3.org/1999/xlink\">\r\n <defs>\r\n  <style type=\"text/css\">\r\n*{stroke-linecap:butt;stroke-linejoin:round;}\r\n  </style>\r\n </defs>\r\n <g id=\"figure_1\">\r\n  <g id=\"patch_1\">\r\n   <path d=\"M 0 726.695625 \r\nL 899.35 726.695625 \r\nL 899.35 0 \r\nL 0 0 \r\nz\r\n\" style=\"fill:#ffffff;\"/>\r\n  </g>\r\n  <g id=\"axes_1\">\r\n   <g id=\"patch_2\">\r\n    <path d=\"M 55.15 565.389375 \r\nL 892.15 565.389375 \r\nL 892.15 21.789375 \r\nL 55.15 21.789375 \r\nz\r\n\" style=\"fill:#eaeaf2;\"/>\r\n   </g>\r\n   <g id=\"matplotlib.axis_1\">\r\n    <g id=\"xtick_1\">\r\n     <g id=\"text_1\">\r\n      <!-- Maharashtra -->\r\n      <defs>\r\n       <path d=\"M 7.421875 0 \r\nL 7.421875 71.578125 \r\nL 21.6875 71.578125 \r\nL 38.625 20.90625 \r\nQ 40.96875 13.8125 42.046875 10.296875 \r\nQ 43.265625 14.203125 45.84375 21.78125 \r\nL 62.984375 71.578125 \r\nL 75.734375 71.578125 \r\nL 75.734375 0 \r\nL 66.609375 0 \r\nL 66.609375 59.90625 \r\nL 45.796875 0 \r\nL 37.25 0 \r\nL 16.546875 60.9375 \r\nL 16.546875 0 \r\nz\r\n\" id=\"ArialMT-77\"/>\r\n       <path d=\"M 40.4375 6.390625 \r\nQ 35.546875 2.25 31.03125 0.53125 \r\nQ 26.515625 -1.171875 21.34375 -1.171875 \r\nQ 12.796875 -1.171875 8.203125 3 \r\nQ 3.609375 7.171875 3.609375 13.671875 \r\nQ 3.609375 17.484375 5.34375 20.625 \r\nQ 7.078125 23.78125 9.890625 25.6875 \r\nQ 12.703125 27.59375 16.21875 28.5625 \r\nQ 18.796875 29.25 24.03125 29.890625 \r\nQ 34.671875 31.15625 39.703125 32.90625 \r\nQ 39.75 34.71875 39.75 35.203125 \r\nQ 39.75 40.578125 37.25 42.78125 \r\nQ 33.890625 45.75 27.25 45.75 \r\nQ 21.046875 45.75 18.09375 43.578125 \r\nQ 15.140625 41.40625 13.71875 35.890625 \r\nL 5.125 37.0625 \r\nQ 6.296875 42.578125 8.984375 45.96875 \r\nQ 11.671875 49.359375 16.75 51.1875 \r\nQ 21.828125 53.03125 28.515625 53.03125 \r\nQ 35.15625 53.03125 39.296875 51.46875 \r\nQ 43.453125 49.90625 45.40625 47.53125 \r\nQ 47.359375 45.171875 48.140625 41.546875 \r\nQ 48.578125 39.3125 48.578125 33.453125 \r\nL 48.578125 21.734375 \r\nQ 48.578125 9.46875 49.140625 6.21875 \r\nQ 49.703125 2.984375 51.375 0 \r\nL 42.1875 0 \r\nQ 40.828125 2.734375 40.4375 6.390625 \r\nz\r\nM 39.703125 26.03125 \r\nQ 34.90625 24.078125 25.34375 22.703125 \r\nQ 19.921875 21.921875 17.671875 20.9375 \r\nQ 15.4375 19.96875 14.203125 18.09375 \r\nQ 12.984375 16.21875 12.984375 13.921875 \r\nQ 12.984375 10.40625 15.640625 8.0625 \r\nQ 18.3125 5.71875 23.4375 5.71875 \r\nQ 28.515625 5.71875 32.46875 7.9375 \r\nQ 36.421875 10.15625 38.28125 14.015625 \r\nQ 39.703125 17 39.703125 22.796875 \r\nz\r\n\" id=\"ArialMT-97\"/>\r\n       <path d=\"M 6.59375 0 \r\nL 6.59375 71.578125 \r\nL 15.375 71.578125 \r\nL 15.375 45.90625 \r\nQ 21.53125 53.03125 30.90625 53.03125 \r\nQ 36.671875 53.03125 40.921875 50.75 \r\nQ 45.171875 48.484375 47 44.484375 \r\nQ 48.828125 40.484375 48.828125 32.859375 \r\nL 48.828125 0 \r\nL 40.046875 0 \r\nL 40.046875 32.859375 \r\nQ 40.046875 39.453125 37.1875 42.453125 \r\nQ 34.328125 45.453125 29.109375 45.453125 \r\nQ 25.203125 45.453125 21.75 43.421875 \r\nQ 18.3125 41.40625 16.84375 37.9375 \r\nQ 15.375 34.46875 15.375 28.375 \r\nL 15.375 0 \r\nz\r\n\" id=\"ArialMT-104\"/>\r\n       <path d=\"M 6.5 0 \r\nL 6.5 51.859375 \r\nL 14.40625 51.859375 \r\nL 14.40625 44 \r\nQ 17.4375 49.515625 20 51.265625 \r\nQ 22.5625 53.03125 25.640625 53.03125 \r\nQ 30.078125 53.03125 34.671875 50.203125 \r\nL 31.640625 42.046875 \r\nQ 28.421875 43.953125 25.203125 43.953125 \r\nQ 22.3125 43.953125 20.015625 42.21875 \r\nQ 17.71875 40.484375 16.75 37.40625 \r\nQ 15.28125 32.71875 15.28125 27.15625 \r\nL 15.28125 0 \r\nz\r\n\" id=\"ArialMT-114\"/>\r\n       <path d=\"M 3.078125 15.484375 \r\nL 11.765625 16.84375 \r\nQ 12.5 11.625 15.84375 8.84375 \r\nQ 19.1875 6.0625 25.203125 6.0625 \r\nQ 31.25 6.0625 34.171875 8.515625 \r\nQ 37.109375 10.984375 37.109375 14.3125 \r\nQ 37.109375 17.28125 34.515625 19 \r\nQ 32.71875 20.171875 25.53125 21.96875 \r\nQ 15.875 24.421875 12.140625 26.203125 \r\nQ 8.40625 27.984375 6.46875 31.125 \r\nQ 4.546875 34.28125 4.546875 38.09375 \r\nQ 4.546875 41.546875 6.125 44.5 \r\nQ 7.71875 47.46875 10.453125 49.421875 \r\nQ 12.5 50.921875 16.03125 51.96875 \r\nQ 19.578125 53.03125 23.640625 53.03125 \r\nQ 29.734375 53.03125 34.34375 51.265625 \r\nQ 38.96875 49.515625 41.15625 46.5 \r\nQ 43.359375 43.5 44.1875 38.484375 \r\nL 35.59375 37.3125 \r\nQ 35.015625 41.3125 32.203125 43.546875 \r\nQ 29.390625 45.796875 24.265625 45.796875 \r\nQ 18.21875 45.796875 15.625 43.796875 \r\nQ 13.03125 41.796875 13.03125 39.109375 \r\nQ 13.03125 37.40625 14.109375 36.03125 \r\nQ 15.1875 34.625 17.484375 33.6875 \r\nQ 18.796875 33.203125 25.25 31.453125 \r\nQ 34.578125 28.953125 38.25 27.359375 \r\nQ 41.9375 25.78125 44.03125 22.75 \r\nQ 46.140625 19.734375 46.140625 15.234375 \r\nQ 46.140625 10.84375 43.578125 6.953125 \r\nQ 41.015625 3.078125 36.171875 0.953125 \r\nQ 31.34375 -1.171875 25.25 -1.171875 \r\nQ 15.140625 -1.171875 9.84375 3.03125 \r\nQ 4.546875 7.234375 3.078125 15.484375 \r\nz\r\n\" id=\"ArialMT-115\"/>\r\n       <path d=\"M 25.78125 7.859375 \r\nL 27.046875 0.09375 \r\nQ 23.34375 -0.6875 20.40625 -0.6875 \r\nQ 15.625 -0.6875 12.984375 0.828125 \r\nQ 10.359375 2.34375 9.28125 4.8125 \r\nQ 8.203125 7.28125 8.203125 15.1875 \r\nL 8.203125 45.015625 \r\nL 1.765625 45.015625 \r\nL 1.765625 51.859375 \r\nL 8.203125 51.859375 \r\nL 8.203125 64.703125 \r\nL 16.9375 69.96875 \r\nL 16.9375 51.859375 \r\nL 25.78125 51.859375 \r\nL 25.78125 45.015625 \r\nL 16.9375 45.015625 \r\nL 16.9375 14.703125 \r\nQ 16.9375 10.9375 17.40625 9.859375 \r\nQ 17.875 8.796875 18.921875 8.15625 \r\nQ 19.96875 7.515625 21.921875 7.515625 \r\nQ 23.390625 7.515625 25.78125 7.859375 \r\nz\r\n\" id=\"ArialMT-116\"/>\r\n      </defs>\r\n      <g style=\"fill:#262626;\" transform=\"translate(69.045967 628.522187)rotate(-90)scale(0.1 -0.1)\">\r\n       <use xlink:href=\"#ArialMT-77\"/>\r\n       <use x=\"83.300781\" xlink:href=\"#ArialMT-97\"/>\r\n       <use x=\"138.916016\" xlink:href=\"#ArialMT-104\"/>\r\n       <use x=\"194.53125\" xlink:href=\"#ArialMT-97\"/>\r\n       <use x=\"250.146484\" xlink:href=\"#ArialMT-114\"/>\r\n       <use x=\"283.447266\" xlink:href=\"#ArialMT-97\"/>\r\n       <use x=\"339.0625\" xlink:href=\"#ArialMT-115\"/>\r\n       <use x=\"389.0625\" xlink:href=\"#ArialMT-104\"/>\r\n       <use x=\"444.677734\" xlink:href=\"#ArialMT-116\"/>\r\n       <use x=\"472.460938\" xlink:href=\"#ArialMT-114\"/>\r\n       <use x=\"505.761719\" xlink:href=\"#ArialMT-97\"/>\r\n      </g>\r\n     </g>\r\n    </g>\r\n    <g id=\"xtick_2\">\r\n     <g id=\"text_2\">\r\n      <!-- Gujarat -->\r\n      <defs>\r\n       <path d=\"M 41.21875 28.078125 \r\nL 41.21875 36.46875 \r\nL 71.53125 36.53125 \r\nL 71.53125 9.96875 \r\nQ 64.546875 4.390625 57.125 1.578125 \r\nQ 49.703125 -1.21875 41.890625 -1.21875 \r\nQ 31.34375 -1.21875 22.71875 3.296875 \r\nQ 14.109375 7.8125 9.71875 16.359375 \r\nQ 5.328125 24.90625 5.328125 35.453125 \r\nQ 5.328125 45.90625 9.6875 54.953125 \r\nQ 14.0625 64.015625 22.265625 68.40625 \r\nQ 30.46875 72.796875 41.15625 72.796875 \r\nQ 48.921875 72.796875 55.1875 70.28125 \r\nQ 61.46875 67.78125 65.03125 63.28125 \r\nQ 68.609375 58.796875 70.453125 51.5625 \r\nL 61.921875 49.21875 \r\nQ 60.296875 54.6875 57.90625 57.8125 \r\nQ 55.515625 60.9375 51.0625 62.8125 \r\nQ 46.625 64.703125 41.21875 64.703125 \r\nQ 34.71875 64.703125 29.984375 62.71875 \r\nQ 25.25 60.75 22.34375 57.515625 \r\nQ 19.4375 54.296875 17.828125 50.4375 \r\nQ 15.09375 43.796875 15.09375 36.03125 \r\nQ 15.09375 26.46875 18.390625 20.015625 \r\nQ 21.6875 13.578125 27.984375 10.453125 \r\nQ 34.28125 7.328125 41.359375 7.328125 \r\nQ 47.515625 7.328125 53.375 9.6875 \r\nQ 59.234375 12.0625 62.25 14.75 \r\nL 62.25 28.078125 \r\nz\r\n\" id=\"ArialMT-71\"/>\r\n       <path d=\"M 40.578125 0 \r\nL 40.578125 7.625 \r\nQ 34.515625 -1.171875 24.125 -1.171875 \r\nQ 19.53125 -1.171875 15.546875 0.578125 \r\nQ 11.578125 2.34375 9.640625 5 \r\nQ 7.71875 7.671875 6.9375 11.53125 \r\nQ 6.390625 14.109375 6.390625 19.734375 \r\nL 6.390625 51.859375 \r\nL 15.1875 51.859375 \r\nL 15.1875 23.09375 \r\nQ 15.1875 16.21875 15.71875 13.8125 \r\nQ 16.546875 10.359375 19.234375 8.375 \r\nQ 21.921875 6.390625 25.875 6.390625 \r\nQ 29.828125 6.390625 33.296875 8.421875 \r\nQ 36.765625 10.453125 38.203125 13.9375 \r\nQ 39.65625 17.4375 39.65625 24.078125 \r\nL 39.65625 51.859375 \r\nL 48.4375 51.859375 \r\nL 48.4375 0 \r\nz\r\n\" id=\"ArialMT-117\"/>\r\n       <path d=\"M 6.546875 61.375 \r\nL 6.546875 71.578125 \r\nL 15.328125 71.578125 \r\nL 15.328125 61.375 \r\nz\r\nM -4.59375 -20.125 \r\nL -2.9375 -12.640625 \r\nQ -0.296875 -13.328125 1.21875 -13.328125 \r\nQ 3.90625 -13.328125 5.21875 -11.546875 \r\nQ 6.546875 -9.765625 6.546875 -2.640625 \r\nL 6.546875 51.859375 \r\nL 15.328125 51.859375 \r\nL 15.328125 -2.828125 \r\nQ 15.328125 -12.40625 12.84375 -16.15625 \r\nQ 9.671875 -21.046875 2.296875 -21.046875 \r\nQ -1.265625 -21.046875 -4.59375 -20.125 \r\nz\r\n\" id=\"ArialMT-106\"/>\r\n      </defs>\r\n      <g style=\"fill:#262626;\" transform=\"translate(91.669932 605.18)rotate(-90)scale(0.1 -0.1)\">\r\n       <use xlink:href=\"#ArialMT-71\"/>\r\n       <use x=\"77.783203\" xlink:href=\"#ArialMT-117\"/>\r\n       <use x=\"133.398438\" xlink:href=\"#ArialMT-106\"/>\r\n       <use x=\"155.615234\" xlink:href=\"#ArialMT-97\"/>\r\n       <use x=\"211.230469\" xlink:href=\"#ArialMT-114\"/>\r\n       <use x=\"244.53125\" xlink:href=\"#ArialMT-97\"/>\r\n       <use x=\"300.146484\" xlink:href=\"#ArialMT-116\"/>\r\n      </g>\r\n     </g>\r\n    </g>\r\n    <g id=\"xtick_3\">\r\n     <g id=\"text_3\">\r\n      <!-- Delhi -->\r\n      <defs>\r\n       <path d=\"M 7.71875 0 \r\nL 7.71875 71.578125 \r\nL 32.375 71.578125 \r\nQ 40.71875 71.578125 45.125 70.5625 \r\nQ 51.265625 69.140625 55.609375 65.4375 \r\nQ 61.28125 60.640625 64.078125 53.1875 \r\nQ 66.890625 45.75 66.890625 36.1875 \r\nQ 66.890625 28.03125 64.984375 21.734375 \r\nQ 63.09375 15.4375 60.109375 11.296875 \r\nQ 57.125 7.171875 53.578125 4.796875 \r\nQ 50.046875 2.4375 45.046875 1.21875 \r\nQ 40.046875 0 33.546875 0 \r\nz\r\nM 17.1875 8.453125 \r\nL 32.46875 8.453125 \r\nQ 39.546875 8.453125 43.578125 9.765625 \r\nQ 47.609375 11.078125 50 13.484375 \r\nQ 53.375 16.84375 55.25 22.53125 \r\nQ 57.125 28.21875 57.125 36.328125 \r\nQ 57.125 47.5625 53.4375 53.59375 \r\nQ 49.75 59.625 44.484375 61.671875 \r\nQ 40.671875 63.140625 32.234375 63.140625 \r\nL 17.1875 63.140625 \r\nz\r\n\" id=\"ArialMT-68\"/>\r\n       <path d=\"M 42.09375 16.703125 \r\nL 51.171875 15.578125 \r\nQ 49.03125 7.625 43.21875 3.21875 \r\nQ 37.40625 -1.171875 28.375 -1.171875 \r\nQ 17 -1.171875 10.328125 5.828125 \r\nQ 3.65625 12.84375 3.65625 25.484375 \r\nQ 3.65625 38.578125 10.390625 45.796875 \r\nQ 17.140625 53.03125 27.875 53.03125 \r\nQ 38.28125 53.03125 44.875 45.953125 \r\nQ 51.46875 38.875 51.46875 26.03125 \r\nQ 51.46875 25.25 51.421875 23.6875 \r\nL 12.75 23.6875 \r\nQ 13.234375 15.140625 17.578125 10.59375 \r\nQ 21.921875 6.0625 28.421875 6.0625 \r\nQ 33.25 6.0625 36.671875 8.59375 \r\nQ 40.09375 11.140625 42.09375 16.703125 \r\nz\r\nM 13.234375 30.90625 \r\nL 42.1875 30.90625 \r\nQ 41.609375 37.453125 38.875 40.71875 \r\nQ 34.671875 45.796875 27.984375 45.796875 \r\nQ 21.921875 45.796875 17.796875 41.75 \r\nQ 13.671875 37.703125 13.234375 30.90625 \r\nz\r\n\" id=\"ArialMT-101\"/>\r\n       <path d=\"M 6.390625 0 \r\nL 6.390625 71.578125 \r\nL 15.1875 71.578125 \r\nL 15.1875 0 \r\nz\r\n\" id=\"ArialMT-108\"/>\r\n       <path d=\"M 6.640625 61.46875 \r\nL 6.640625 71.578125 \r\nL 15.4375 71.578125 \r\nL 15.4375 61.46875 \r\nz\r\nM 6.640625 0 \r\nL 6.640625 51.859375 \r\nL 15.4375 51.859375 \r\nL 15.4375 0 \r\nz\r\n\" id=\"ArialMT-105\"/>\r\n      </defs>\r\n      <g style=\"fill:#262626;\" transform=\"translate(114.28921 595.176875)rotate(-90)scale(0.1 -0.1)\">\r\n       <use xlink:href=\"#ArialMT-68\"/>\r\n       <use x=\"72.216797\" xlink:href=\"#ArialMT-101\"/>\r\n       <use x=\"127.832031\" xlink:href=\"#ArialMT-108\"/>\r\n       <use x=\"150.048828\" xlink:href=\"#ArialMT-104\"/>\r\n       <use x=\"205.664062\" xlink:href=\"#ArialMT-105\"/>\r\n      </g>\r\n     </g>\r\n    </g>\r\n    <g id=\"xtick_4\">\r\n     <g id=\"text_4\">\r\n      <!-- Madhya Pradesh -->\r\n      <defs>\r\n       <path d=\"M 40.234375 0 \r\nL 40.234375 6.546875 \r\nQ 35.296875 -1.171875 25.734375 -1.171875 \r\nQ 19.53125 -1.171875 14.328125 2.25 \r\nQ 9.125 5.671875 6.265625 11.796875 \r\nQ 3.421875 17.921875 3.421875 25.875 \r\nQ 3.421875 33.640625 6 39.96875 \r\nQ 8.59375 46.296875 13.765625 49.65625 \r\nQ 18.953125 53.03125 25.34375 53.03125 \r\nQ 30.03125 53.03125 33.6875 51.046875 \r\nQ 37.359375 49.078125 39.65625 45.90625 \r\nL 39.65625 71.578125 \r\nL 48.390625 71.578125 \r\nL 48.390625 0 \r\nz\r\nM 12.453125 25.875 \r\nQ 12.453125 15.921875 16.640625 10.984375 \r\nQ 20.84375 6.0625 26.5625 6.0625 \r\nQ 32.328125 6.0625 36.34375 10.765625 \r\nQ 40.375 15.484375 40.375 25.140625 \r\nQ 40.375 35.796875 36.265625 40.765625 \r\nQ 32.171875 45.75 26.171875 45.75 \r\nQ 20.3125 45.75 16.375 40.96875 \r\nQ 12.453125 36.1875 12.453125 25.875 \r\nz\r\n\" id=\"ArialMT-100\"/>\r\n       <path d=\"M 6.203125 -19.96875 \r\nL 5.21875 -11.71875 \r\nQ 8.109375 -12.5 10.25 -12.5 \r\nQ 13.1875 -12.5 14.9375 -11.515625 \r\nQ 16.703125 -10.546875 17.828125 -8.796875 \r\nQ 18.65625 -7.46875 20.515625 -2.25 \r\nQ 20.75 -1.515625 21.296875 -0.09375 \r\nL 1.609375 51.859375 \r\nL 11.078125 51.859375 \r\nL 21.875 21.828125 \r\nQ 23.96875 16.109375 25.640625 9.8125 \r\nQ 27.15625 15.875 29.25 21.625 \r\nL 40.328125 51.859375 \r\nL 49.125 51.859375 \r\nL 29.390625 -0.875 \r\nQ 26.21875 -9.421875 24.46875 -12.640625 \r\nQ 22.125 -17 19.09375 -19.015625 \r\nQ 16.0625 -21.046875 11.859375 -21.046875 \r\nQ 9.328125 -21.046875 6.203125 -19.96875 \r\nz\r\n\" id=\"ArialMT-121\"/>\r\n       <path id=\"ArialMT-32\"/>\r\n       <path d=\"M 7.71875 0 \r\nL 7.71875 71.578125 \r\nL 34.71875 71.578125 \r\nQ 41.84375 71.578125 45.609375 70.90625 \r\nQ 50.875 70.015625 54.4375 67.546875 \r\nQ 58.015625 65.09375 60.1875 60.640625 \r\nQ 62.359375 56.203125 62.359375 50.875 \r\nQ 62.359375 41.75 56.546875 35.421875 \r\nQ 50.734375 29.109375 35.546875 29.109375 \r\nL 17.1875 29.109375 \r\nL 17.1875 0 \r\nz\r\nM 17.1875 37.546875 \r\nL 35.6875 37.546875 \r\nQ 44.875 37.546875 48.734375 40.96875 \r\nQ 52.59375 44.390625 52.59375 50.59375 \r\nQ 52.59375 55.078125 50.3125 58.265625 \r\nQ 48.046875 61.46875 44.34375 62.5 \r\nQ 41.9375 63.140625 35.5 63.140625 \r\nL 17.1875 63.140625 \r\nz\r\n\" id=\"ArialMT-80\"/>\r\n      </defs>\r\n      <g style=\"fill:#262626;\" transform=\"translate(136.852238 647.984687)rotate(-90)scale(0.1 -0.1)\">\r\n       <use xlink:href=\"#ArialMT-77\"/>\r\n       <use x=\"83.300781\" xlink:href=\"#ArialMT-97\"/>\r\n       <use x=\"138.916016\" xlink:href=\"#ArialMT-100\"/>\r\n       <use x=\"194.53125\" xlink:href=\"#ArialMT-104\"/>\r\n       <use x=\"250.146484\" xlink:href=\"#ArialMT-121\"/>\r\n       <use x=\"300.146484\" xlink:href=\"#ArialMT-97\"/>\r\n       <use x=\"355.761719\" xlink:href=\"#ArialMT-32\"/>\r\n       <use x=\"383.544922\" xlink:href=\"#ArialMT-80\"/>\r\n       <use x=\"450.244141\" xlink:href=\"#ArialMT-114\"/>\r\n       <use x=\"483.544922\" xlink:href=\"#ArialMT-97\"/>\r\n       <use x=\"539.160156\" xlink:href=\"#ArialMT-100\"/>\r\n       <use x=\"594.775391\" xlink:href=\"#ArialMT-101\"/>\r\n       <use x=\"650.390625\" xlink:href=\"#ArialMT-115\"/>\r\n       <use x=\"700.390625\" xlink:href=\"#ArialMT-104\"/>\r\n      </g>\r\n     </g>\r\n    </g>\r\n    <g id=\"xtick_5\">\r\n     <g id=\"text_5\">\r\n      <!-- Rajasthan -->\r\n      <defs>\r\n       <path d=\"M 7.859375 0 \r\nL 7.859375 71.578125 \r\nL 39.59375 71.578125 \r\nQ 49.171875 71.578125 54.140625 69.640625 \r\nQ 59.125 67.71875 62.109375 62.828125 \r\nQ 65.09375 57.953125 65.09375 52.046875 \r\nQ 65.09375 44.4375 60.15625 39.203125 \r\nQ 55.21875 33.984375 44.921875 32.5625 \r\nQ 48.6875 30.765625 50.640625 29 \r\nQ 54.78125 25.203125 58.5 19.484375 \r\nL 70.953125 0 \r\nL 59.03125 0 \r\nL 49.5625 14.890625 \r\nQ 45.40625 21.34375 42.71875 24.75 \r\nQ 40.046875 28.171875 37.921875 29.53125 \r\nQ 35.796875 30.90625 33.59375 31.453125 \r\nQ 31.984375 31.78125 28.328125 31.78125 \r\nL 17.328125 31.78125 \r\nL 17.328125 0 \r\nz\r\nM 17.328125 39.984375 \r\nL 37.703125 39.984375 \r\nQ 44.1875 39.984375 47.84375 41.328125 \r\nQ 51.515625 42.671875 53.421875 45.625 \r\nQ 55.328125 48.578125 55.328125 52.046875 \r\nQ 55.328125 57.125 51.640625 60.390625 \r\nQ 47.953125 63.671875 39.984375 63.671875 \r\nL 17.328125 63.671875 \r\nz\r\n\" id=\"ArialMT-82\"/>\r\n       <path d=\"M 6.59375 0 \r\nL 6.59375 51.859375 \r\nL 14.5 51.859375 \r\nL 14.5 44.484375 \r\nQ 20.21875 53.03125 31 53.03125 \r\nQ 35.6875 53.03125 39.625 51.34375 \r\nQ 43.5625 49.65625 45.515625 46.921875 \r\nQ 47.46875 44.1875 48.25 40.4375 \r\nQ 48.734375 37.984375 48.734375 31.890625 \r\nL 48.734375 0 \r\nL 39.9375 0 \r\nL 39.9375 31.546875 \r\nQ 39.9375 36.921875 38.90625 39.578125 \r\nQ 37.890625 42.234375 35.28125 43.8125 \r\nQ 32.671875 45.40625 29.15625 45.40625 \r\nQ 23.53125 45.40625 19.453125 41.84375 \r\nQ 15.375 38.28125 15.375 28.328125 \r\nL 15.375 0 \r\nz\r\n\" id=\"ArialMT-110\"/>\r\n      </defs>\r\n      <g style=\"fill:#262626;\" transform=\"translate(159.47386 617.415937)rotate(-90)scale(0.1 -0.1)\">\r\n       <use xlink:href=\"#ArialMT-82\"/>\r\n       <use x=\"72.216797\" xlink:href=\"#ArialMT-97\"/>\r\n       <use x=\"127.832031\" xlink:href=\"#ArialMT-106\"/>\r\n       <use x=\"150.048828\" xlink:href=\"#ArialMT-97\"/>\r\n       <use x=\"205.664062\" xlink:href=\"#ArialMT-115\"/>\r\n       <use x=\"255.664062\" xlink:href=\"#ArialMT-116\"/>\r\n       <use x=\"283.447266\" xlink:href=\"#ArialMT-104\"/>\r\n       <use x=\"339.0625\" xlink:href=\"#ArialMT-97\"/>\r\n       <use x=\"394.677734\" xlink:href=\"#ArialMT-110\"/>\r\n      </g>\r\n     </g>\r\n    </g>\r\n    <g id=\"xtick_6\">\r\n     <g id=\"text_6\">\r\n      <!-- Tamil Nadu -->\r\n      <defs>\r\n       <path d=\"M 25.921875 0 \r\nL 25.921875 63.140625 \r\nL 2.34375 63.140625 \r\nL 2.34375 71.578125 \r\nL 59.078125 71.578125 \r\nL 59.078125 63.140625 \r\nL 35.40625 63.140625 \r\nL 35.40625 0 \r\nz\r\n\" id=\"ArialMT-84\"/>\r\n       <path d=\"M 6.59375 0 \r\nL 6.59375 51.859375 \r\nL 14.453125 51.859375 \r\nL 14.453125 44.578125 \r\nQ 16.890625 48.390625 20.9375 50.703125 \r\nQ 25 53.03125 30.171875 53.03125 \r\nQ 35.9375 53.03125 39.625 50.640625 \r\nQ 43.3125 48.25 44.828125 43.953125 \r\nQ 50.984375 53.03125 60.84375 53.03125 \r\nQ 68.5625 53.03125 72.703125 48.75 \r\nQ 76.859375 44.484375 76.859375 35.59375 \r\nL 76.859375 0 \r\nL 68.109375 0 \r\nL 68.109375 32.671875 \r\nQ 68.109375 37.9375 67.25 40.25 \r\nQ 66.40625 42.578125 64.15625 43.984375 \r\nQ 61.921875 45.40625 58.890625 45.40625 \r\nQ 53.421875 45.40625 49.796875 41.765625 \r\nQ 46.1875 38.140625 46.1875 30.125 \r\nL 46.1875 0 \r\nL 37.40625 0 \r\nL 37.40625 33.6875 \r\nQ 37.40625 39.546875 35.25 42.46875 \r\nQ 33.109375 45.40625 28.21875 45.40625 \r\nQ 24.515625 45.40625 21.359375 43.453125 \r\nQ 18.21875 41.5 16.796875 37.734375 \r\nQ 15.375 33.984375 15.375 26.90625 \r\nL 15.375 0 \r\nz\r\n\" id=\"ArialMT-109\"/>\r\n       <path d=\"M 7.625 0 \r\nL 7.625 71.578125 \r\nL 17.328125 71.578125 \r\nL 54.9375 15.375 \r\nL 54.9375 71.578125 \r\nL 64.015625 71.578125 \r\nL 64.015625 0 \r\nL 54.296875 0 \r\nL 16.703125 56.25 \r\nL 16.703125 0 \r\nz\r\n\" id=\"ArialMT-78\"/>\r\n      </defs>\r\n      <g style=\"fill:#262626;\" transform=\"translate(182.154075 622.401875)rotate(-90)scale(0.1 -0.1)\">\r\n       <use xlink:href=\"#ArialMT-84\"/>\r\n       <use x=\"49.958984\" xlink:href=\"#ArialMT-97\"/>\r\n       <use x=\"105.574219\" xlink:href=\"#ArialMT-109\"/>\r\n       <use x=\"188.875\" xlink:href=\"#ArialMT-105\"/>\r\n       <use x=\"211.091797\" xlink:href=\"#ArialMT-108\"/>\r\n       <use x=\"233.308594\" xlink:href=\"#ArialMT-32\"/>\r\n       <use x=\"261.091797\" xlink:href=\"#ArialMT-78\"/>\r\n       <use x=\"333.308594\" xlink:href=\"#ArialMT-97\"/>\r\n       <use x=\"388.923828\" xlink:href=\"#ArialMT-100\"/>\r\n       <use x=\"444.539062\" xlink:href=\"#ArialMT-117\"/>\r\n      </g>\r\n     </g>\r\n    </g>\r\n    <g id=\"xtick_7\">\r\n     <g id=\"text_7\">\r\n      <!-- Uttar Pradesh -->\r\n      <defs>\r\n       <path d=\"M 54.6875 71.578125 \r\nL 64.15625 71.578125 \r\nL 64.15625 30.21875 \r\nQ 64.15625 19.4375 61.71875 13.078125 \r\nQ 59.28125 6.734375 52.90625 2.75 \r\nQ 46.53125 -1.21875 36.1875 -1.21875 \r\nQ 26.125 -1.21875 19.71875 2.25 \r\nQ 13.328125 5.71875 10.59375 12.28125 \r\nQ 7.859375 18.84375 7.859375 30.21875 \r\nL 7.859375 71.578125 \r\nL 17.328125 71.578125 \r\nL 17.328125 30.28125 \r\nQ 17.328125 20.953125 19.0625 16.53125 \r\nQ 20.796875 12.109375 25.015625 9.71875 \r\nQ 29.25 7.328125 35.359375 7.328125 \r\nQ 45.796875 7.328125 50.234375 12.0625 \r\nQ 54.6875 16.796875 54.6875 30.28125 \r\nz\r\n\" id=\"ArialMT-85\"/>\r\n      </defs>\r\n      <g style=\"fill:#262626;\" transform=\"translate(204.775697 634.08)rotate(-90)scale(0.1 -0.1)\">\r\n       <use xlink:href=\"#ArialMT-85\"/>\r\n       <use x=\"72.216797\" xlink:href=\"#ArialMT-116\"/>\r\n       <use x=\"100\" xlink:href=\"#ArialMT-116\"/>\r\n       <use x=\"127.783203\" xlink:href=\"#ArialMT-97\"/>\r\n       <use x=\"183.398438\" xlink:href=\"#ArialMT-114\"/>\r\n       <use x=\"216.699219\" xlink:href=\"#ArialMT-32\"/>\r\n       <use x=\"244.482422\" xlink:href=\"#ArialMT-80\"/>\r\n       <use x=\"311.181641\" xlink:href=\"#ArialMT-114\"/>\r\n       <use x=\"344.482422\" xlink:href=\"#ArialMT-97\"/>\r\n       <use x=\"400.097656\" xlink:href=\"#ArialMT-100\"/>\r\n       <use x=\"455.712891\" xlink:href=\"#ArialMT-101\"/>\r\n       <use x=\"511.328125\" xlink:href=\"#ArialMT-115\"/>\r\n       <use x=\"561.328125\" xlink:href=\"#ArialMT-104\"/>\r\n      </g>\r\n     </g>\r\n    </g>\r\n    <g id=\"xtick_8\">\r\n     <g id=\"text_8\">\r\n      <!-- Andhra Pradesh -->\r\n      <defs>\r\n       <path d=\"M -0.140625 0 \r\nL 27.34375 71.578125 \r\nL 37.546875 71.578125 \r\nL 66.84375 0 \r\nL 56.0625 0 \r\nL 47.703125 21.6875 \r\nL 17.78125 21.6875 \r\nL 9.90625 0 \r\nz\r\nM 20.515625 29.390625 \r\nL 44.78125 29.390625 \r\nL 37.3125 49.21875 \r\nQ 33.890625 58.25 32.234375 64.0625 \r\nQ 30.859375 57.171875 28.375 50.390625 \r\nz\r\n\" id=\"ArialMT-65\"/>\r\n      </defs>\r\n      <g style=\"fill:#262626;\" transform=\"translate(227.397318 644.655)rotate(-90)scale(0.1 -0.1)\">\r\n       <use xlink:href=\"#ArialMT-65\"/>\r\n       <use x=\"66.699219\" xlink:href=\"#ArialMT-110\"/>\r\n       <use x=\"122.314453\" xlink:href=\"#ArialMT-100\"/>\r\n       <use x=\"177.929688\" xlink:href=\"#ArialMT-104\"/>\r\n       <use x=\"233.544922\" xlink:href=\"#ArialMT-114\"/>\r\n       <use x=\"266.845703\" xlink:href=\"#ArialMT-97\"/>\r\n       <use x=\"322.460938\" xlink:href=\"#ArialMT-32\"/>\r\n       <use x=\"350.244141\" xlink:href=\"#ArialMT-80\"/>\r\n       <use x=\"416.943359\" xlink:href=\"#ArialMT-114\"/>\r\n       <use x=\"450.244141\" xlink:href=\"#ArialMT-97\"/>\r\n       <use x=\"505.859375\" xlink:href=\"#ArialMT-100\"/>\r\n       <use x=\"561.474609\" xlink:href=\"#ArialMT-101\"/>\r\n       <use x=\"617.089844\" xlink:href=\"#ArialMT-115\"/>\r\n       <use x=\"667.089844\" xlink:href=\"#ArialMT-104\"/>\r\n      </g>\r\n     </g>\r\n    </g>\r\n    <g id=\"xtick_9\">\r\n     <g id=\"text_9\">\r\n      <!-- Telangana -->\r\n      <defs>\r\n       <path d=\"M 4.984375 -4.296875 \r\nL 13.53125 -5.5625 \r\nQ 14.0625 -9.515625 16.5 -11.328125 \r\nQ 19.78125 -13.765625 25.4375 -13.765625 \r\nQ 31.546875 -13.765625 34.859375 -11.328125 \r\nQ 38.1875 -8.890625 39.359375 -4.5 \r\nQ 40.046875 -1.8125 39.984375 6.78125 \r\nQ 34.234375 0 25.640625 0 \r\nQ 14.9375 0 9.078125 7.71875 \r\nQ 3.21875 15.4375 3.21875 26.21875 \r\nQ 3.21875 33.640625 5.90625 39.90625 \r\nQ 8.59375 46.1875 13.6875 49.609375 \r\nQ 18.796875 53.03125 25.6875 53.03125 \r\nQ 34.859375 53.03125 40.828125 45.609375 \r\nL 40.828125 51.859375 \r\nL 48.921875 51.859375 \r\nL 48.921875 7.03125 \r\nQ 48.921875 -5.078125 46.453125 -10.125 \r\nQ 44 -15.1875 38.640625 -18.109375 \r\nQ 33.296875 -21.046875 25.484375 -21.046875 \r\nQ 16.21875 -21.046875 10.5 -16.875 \r\nQ 4.78125 -12.703125 4.984375 -4.296875 \r\nz\r\nM 12.25 26.859375 \r\nQ 12.25 16.65625 16.296875 11.96875 \r\nQ 20.359375 7.28125 26.46875 7.28125 \r\nQ 32.515625 7.28125 36.609375 11.9375 \r\nQ 40.71875 16.609375 40.71875 26.5625 \r\nQ 40.71875 36.078125 36.5 40.90625 \r\nQ 32.28125 45.75 26.3125 45.75 \r\nQ 20.453125 45.75 16.34375 40.984375 \r\nQ 12.25 36.234375 12.25 26.859375 \r\nz\r\n\" id=\"ArialMT-103\"/>\r\n      </defs>\r\n      <g style=\"fill:#262626;\" transform=\"translate(249.960346 618.533125)rotate(-90)scale(0.1 -0.1)\">\r\n       <use xlink:href=\"#ArialMT-84\"/>\r\n       <use x=\"49.958984\" xlink:href=\"#ArialMT-101\"/>\r\n       <use x=\"105.574219\" xlink:href=\"#ArialMT-108\"/>\r\n       <use x=\"127.791016\" xlink:href=\"#ArialMT-97\"/>\r\n       <use x=\"183.40625\" xlink:href=\"#ArialMT-110\"/>\r\n       <use x=\"239.021484\" xlink:href=\"#ArialMT-103\"/>\r\n       <use x=\"294.636719\" xlink:href=\"#ArialMT-97\"/>\r\n       <use x=\"350.251953\" xlink:href=\"#ArialMT-110\"/>\r\n       <use x=\"405.867188\" xlink:href=\"#ArialMT-97\"/>\r\n      </g>\r\n     </g>\r\n    </g>\r\n    <g id=\"xtick_10\">\r\n     <g id=\"text_10\">\r\n      <!-- West Bengal -->\r\n      <defs>\r\n       <path d=\"M 20.21875 0 \r\nL 1.21875 71.578125 \r\nL 10.9375 71.578125 \r\nL 21.828125 24.65625 \r\nQ 23.578125 17.28125 24.859375 10.015625 \r\nQ 27.59375 21.484375 28.078125 23.25 \r\nL 41.703125 71.578125 \r\nL 53.125 71.578125 \r\nL 63.375 35.359375 \r\nQ 67.234375 21.875 68.953125 10.015625 \r\nQ 70.3125 16.796875 72.515625 25.59375 \r\nL 83.734375 71.578125 \r\nL 93.265625 71.578125 \r\nL 73.640625 0 \r\nL 64.5 0 \r\nL 49.421875 54.546875 \r\nQ 47.515625 61.375 47.171875 62.9375 \r\nQ 46.046875 58.015625 45.0625 54.546875 \r\nL 29.890625 0 \r\nz\r\n\" id=\"ArialMT-87\"/>\r\n       <path d=\"M 7.328125 0 \r\nL 7.328125 71.578125 \r\nL 34.1875 71.578125 \r\nQ 42.390625 71.578125 47.34375 69.40625 \r\nQ 52.296875 67.234375 55.09375 62.71875 \r\nQ 57.90625 58.203125 57.90625 53.265625 \r\nQ 57.90625 48.6875 55.421875 44.625 \r\nQ 52.9375 40.578125 47.90625 38.09375 \r\nQ 54.390625 36.1875 57.875 31.59375 \r\nQ 61.375 27 61.375 20.75 \r\nQ 61.375 15.71875 59.25 11.390625 \r\nQ 57.125 7.078125 54 4.734375 \r\nQ 50.875 2.390625 46.15625 1.1875 \r\nQ 41.453125 0 34.625 0 \r\nz\r\nM 16.796875 41.5 \r\nL 32.28125 41.5 \r\nQ 38.578125 41.5 41.3125 42.328125 \r\nQ 44.921875 43.40625 46.75 45.890625 \r\nQ 48.578125 48.390625 48.578125 52.15625 \r\nQ 48.578125 55.71875 46.875 58.421875 \r\nQ 45.171875 61.140625 41.984375 62.140625 \r\nQ 38.8125 63.140625 31.109375 63.140625 \r\nL 16.796875 63.140625 \r\nz\r\nM 16.796875 8.453125 \r\nL 34.625 8.453125 \r\nQ 39.203125 8.453125 41.0625 8.796875 \r\nQ 44.34375 9.375 46.53125 10.734375 \r\nQ 48.734375 12.109375 50.140625 14.71875 \r\nQ 51.5625 17.328125 51.5625 20.75 \r\nQ 51.5625 24.75 49.515625 27.703125 \r\nQ 47.46875 30.671875 43.828125 31.859375 \r\nQ 40.1875 33.0625 33.34375 33.0625 \r\nL 16.796875 33.0625 \r\nz\r\n\" id=\"ArialMT-66\"/>\r\n      </defs>\r\n      <g style=\"fill:#262626;\" transform=\"translate(272.581968 628.906562)rotate(-90)scale(0.1 -0.1)\">\r\n       <use xlink:href=\"#ArialMT-87\"/>\r\n       <use x=\"92.634766\" xlink:href=\"#ArialMT-101\"/>\r\n       <use x=\"148.25\" xlink:href=\"#ArialMT-115\"/>\r\n       <use x=\"198.25\" xlink:href=\"#ArialMT-116\"/>\r\n       <use x=\"226.033203\" xlink:href=\"#ArialMT-32\"/>\r\n       <use x=\"253.816406\" xlink:href=\"#ArialMT-66\"/>\r\n       <use x=\"320.515625\" xlink:href=\"#ArialMT-101\"/>\r\n       <use x=\"376.130859\" xlink:href=\"#ArialMT-110\"/>\r\n       <use x=\"431.746094\" xlink:href=\"#ArialMT-103\"/>\r\n       <use x=\"487.361328\" xlink:href=\"#ArialMT-97\"/>\r\n       <use x=\"542.976562\" xlink:href=\"#ArialMT-108\"/>\r\n      </g>\r\n     </g>\r\n    </g>\r\n    <g id=\"xtick_11\">\r\n     <g id=\"text_11\">\r\n      <!-- Jammu and Kashmir -->\r\n      <defs>\r\n       <path d=\"M 2.875 20.3125 \r\nL 11.421875 21.484375 \r\nQ 11.765625 13.28125 14.5 10.25 \r\nQ 17.234375 7.234375 22.078125 7.234375 \r\nQ 25.640625 7.234375 28.21875 8.859375 \r\nQ 30.8125 10.5 31.78125 13.296875 \r\nQ 32.765625 16.109375 32.765625 22.265625 \r\nL 32.765625 71.578125 \r\nL 42.234375 71.578125 \r\nL 42.234375 22.796875 \r\nQ 42.234375 13.8125 40.0625 8.875 \r\nQ 37.890625 3.953125 33.171875 1.359375 \r\nQ 28.46875 -1.21875 22.125 -1.21875 \r\nQ 12.703125 -1.21875 7.6875 4.203125 \r\nQ 2.6875 9.625 2.875 20.3125 \r\nz\r\n\" id=\"ArialMT-74\"/>\r\n       <path d=\"M 7.328125 0 \r\nL 7.328125 71.578125 \r\nL 16.796875 71.578125 \r\nL 16.796875 36.078125 \r\nL 52.34375 71.578125 \r\nL 65.1875 71.578125 \r\nL 35.15625 42.578125 \r\nL 66.5 0 \r\nL 54 0 \r\nL 28.515625 36.234375 \r\nL 16.796875 24.8125 \r\nL 16.796875 0 \r\nz\r\n\" id=\"ArialMT-75\"/>\r\n      </defs>\r\n      <g style=\"fill:#262626;\" transform=\"translate(295.262183 664.083125)rotate(-90)scale(0.1 -0.1)\">\r\n       <use xlink:href=\"#ArialMT-74\"/>\r\n       <use x=\"50\" xlink:href=\"#ArialMT-97\"/>\r\n       <use x=\"105.615234\" xlink:href=\"#ArialMT-109\"/>\r\n       <use x=\"188.916016\" xlink:href=\"#ArialMT-109\"/>\r\n       <use x=\"272.216797\" xlink:href=\"#ArialMT-117\"/>\r\n       <use x=\"327.832031\" xlink:href=\"#ArialMT-32\"/>\r\n       <use x=\"355.615234\" xlink:href=\"#ArialMT-97\"/>\r\n       <use x=\"411.230469\" xlink:href=\"#ArialMT-110\"/>\r\n       <use x=\"466.845703\" xlink:href=\"#ArialMT-100\"/>\r\n       <use x=\"522.460938\" xlink:href=\"#ArialMT-32\"/>\r\n       <use x=\"550.244141\" xlink:href=\"#ArialMT-75\"/>\r\n       <use x=\"616.943359\" xlink:href=\"#ArialMT-97\"/>\r\n       <use x=\"672.558594\" xlink:href=\"#ArialMT-115\"/>\r\n       <use x=\"722.558594\" xlink:href=\"#ArialMT-104\"/>\r\n       <use x=\"778.173828\" xlink:href=\"#ArialMT-109\"/>\r\n       <use x=\"861.474609\" xlink:href=\"#ArialMT-105\"/>\r\n       <use x=\"883.691406\" xlink:href=\"#ArialMT-114\"/>\r\n      </g>\r\n     </g>\r\n    </g>\r\n    <g id=\"xtick_12\">\r\n     <g id=\"text_12\">\r\n      <!-- Karnataka -->\r\n      <defs>\r\n       <path d=\"M 6.640625 0 \r\nL 6.640625 71.578125 \r\nL 15.4375 71.578125 \r\nL 15.4375 30.765625 \r\nL 36.234375 51.859375 \r\nL 47.609375 51.859375 \r\nL 27.78125 32.625 \r\nL 49.609375 0 \r\nL 38.765625 0 \r\nL 21.625 26.515625 \r\nL 15.4375 20.5625 \r\nL 15.4375 0 \r\nz\r\n\" id=\"ArialMT-107\"/>\r\n      </defs>\r\n      <g style=\"fill:#262626;\" transform=\"translate(317.883805 617.972187)rotate(-90)scale(0.1 -0.1)\">\r\n       <use xlink:href=\"#ArialMT-75\"/>\r\n       <use x=\"66.699219\" xlink:href=\"#ArialMT-97\"/>\r\n       <use x=\"122.314453\" xlink:href=\"#ArialMT-114\"/>\r\n       <use x=\"155.615234\" xlink:href=\"#ArialMT-110\"/>\r\n       <use x=\"211.230469\" xlink:href=\"#ArialMT-97\"/>\r\n       <use x=\"266.845703\" xlink:href=\"#ArialMT-116\"/>\r\n       <use x=\"294.628906\" xlink:href=\"#ArialMT-97\"/>\r\n       <use x=\"350.244141\" xlink:href=\"#ArialMT-107\"/>\r\n       <use x=\"400.244141\" xlink:href=\"#ArialMT-97\"/>\r\n      </g>\r\n     </g>\r\n    </g>\r\n    <g id=\"xtick_13\">\r\n     <g id=\"text_13\">\r\n      <!-- Kerala -->\r\n      <g style=\"fill:#262626;\" transform=\"translate(340.505427 601.294062)rotate(-90)scale(0.1 -0.1)\">\r\n       <use xlink:href=\"#ArialMT-75\"/>\r\n       <use x=\"66.699219\" xlink:href=\"#ArialMT-101\"/>\r\n       <use x=\"122.314453\" xlink:href=\"#ArialMT-114\"/>\r\n       <use x=\"155.615234\" xlink:href=\"#ArialMT-97\"/>\r\n       <use x=\"211.230469\" xlink:href=\"#ArialMT-108\"/>\r\n       <use x=\"233.447266\" xlink:href=\"#ArialMT-97\"/>\r\n      </g>\r\n     </g>\r\n    </g>\r\n    <g id=\"xtick_14\">\r\n     <g id=\"text_14\">\r\n      <!-- Bihar -->\r\n      <g style=\"fill:#262626;\" transform=\"translate(363.127048 595.733125)rotate(-90)scale(0.1 -0.1)\">\r\n       <use xlink:href=\"#ArialMT-66\"/>\r\n       <use x=\"66.699219\" xlink:href=\"#ArialMT-105\"/>\r\n       <use x=\"88.916016\" xlink:href=\"#ArialMT-104\"/>\r\n       <use x=\"144.53125\" xlink:href=\"#ArialMT-97\"/>\r\n       <use x=\"200.146484\" xlink:href=\"#ArialMT-114\"/>\r\n      </g>\r\n     </g>\r\n    </g>\r\n    <g id=\"xtick_15\">\r\n     <g id=\"text_15\">\r\n      <!-- Punjab -->\r\n      <defs>\r\n       <path d=\"M 14.703125 0 \r\nL 6.546875 0 \r\nL 6.546875 71.578125 \r\nL 15.328125 71.578125 \r\nL 15.328125 46.046875 \r\nQ 20.90625 53.03125 29.546875 53.03125 \r\nQ 34.328125 53.03125 38.59375 51.09375 \r\nQ 42.875 49.171875 45.625 45.671875 \r\nQ 48.390625 42.1875 49.953125 37.25 \r\nQ 51.515625 32.328125 51.515625 26.703125 \r\nQ 51.515625 13.375 44.921875 6.09375 \r\nQ 38.328125 -1.171875 29.109375 -1.171875 \r\nQ 19.921875 -1.171875 14.703125 6.5 \r\nz\r\nM 14.59375 26.3125 \r\nQ 14.59375 17 17.140625 12.84375 \r\nQ 21.296875 6.0625 28.375 6.0625 \r\nQ 34.125 6.0625 38.328125 11.0625 \r\nQ 42.53125 16.0625 42.53125 25.984375 \r\nQ 42.53125 36.140625 38.5 40.96875 \r\nQ 34.46875 45.796875 28.765625 45.796875 \r\nQ 23 45.796875 18.796875 40.796875 \r\nQ 14.59375 35.796875 14.59375 26.3125 \r\nz\r\n\" id=\"ArialMT-98\"/>\r\n      </defs>\r\n      <g style=\"fill:#262626;\" transform=\"translate(385.690076 603.525312)rotate(-90)scale(0.1 -0.1)\">\r\n       <use xlink:href=\"#ArialMT-80\"/>\r\n       <use x=\"66.699219\" xlink:href=\"#ArialMT-117\"/>\r\n       <use x=\"122.314453\" xlink:href=\"#ArialMT-110\"/>\r\n       <use x=\"177.929688\" xlink:href=\"#ArialMT-106\"/>\r\n       <use x=\"200.146484\" xlink:href=\"#ArialMT-97\"/>\r\n       <use x=\"255.761719\" xlink:href=\"#ArialMT-98\"/>\r\n      </g>\r\n     </g>\r\n    </g>\r\n    <g id=\"xtick_16\">\r\n     <g id=\"text_16\">\r\n      <!-- Haryana -->\r\n      <defs>\r\n       <path d=\"M 8.015625 0 \r\nL 8.015625 71.578125 \r\nL 17.484375 71.578125 \r\nL 17.484375 42.1875 \r\nL 54.6875 42.1875 \r\nL 54.6875 71.578125 \r\nL 64.15625 71.578125 \r\nL 64.15625 0 \r\nL 54.6875 0 \r\nL 54.6875 33.734375 \r\nL 17.484375 33.734375 \r\nL 17.484375 0 \r\nz\r\n\" id=\"ArialMT-72\"/>\r\n      </defs>\r\n      <g style=\"fill:#262626;\" transform=\"translate(408.311698 610.184687)rotate(-90)scale(0.1 -0.1)\">\r\n       <use xlink:href=\"#ArialMT-72\"/>\r\n       <use x=\"72.216797\" xlink:href=\"#ArialMT-97\"/>\r\n       <use x=\"127.832031\" xlink:href=\"#ArialMT-114\"/>\r\n       <use x=\"161.132812\" xlink:href=\"#ArialMT-121\"/>\r\n       <use x=\"211.132812\" xlink:href=\"#ArialMT-97\"/>\r\n       <use x=\"266.748047\" xlink:href=\"#ArialMT-110\"/>\r\n       <use x=\"322.363281\" xlink:href=\"#ArialMT-97\"/>\r\n      </g>\r\n     </g>\r\n    </g>\r\n    <g id=\"xtick_17\">\r\n     <g id=\"text_17\">\r\n      <!-- Odisha -->\r\n      <defs>\r\n       <path d=\"M 4.828125 34.859375 \r\nQ 4.828125 52.6875 14.390625 62.765625 \r\nQ 23.96875 72.859375 39.109375 72.859375 \r\nQ 49.03125 72.859375 56.984375 68.109375 \r\nQ 64.9375 63.375 69.109375 54.90625 \r\nQ 73.296875 46.4375 73.296875 35.6875 \r\nQ 73.296875 24.8125 68.890625 16.21875 \r\nQ 64.5 7.625 56.4375 3.203125 \r\nQ 48.390625 -1.21875 39.0625 -1.21875 \r\nQ 28.953125 -1.21875 20.984375 3.65625 \r\nQ 13.03125 8.546875 8.921875 16.984375 \r\nQ 4.828125 25.4375 4.828125 34.859375 \r\nz\r\nM 14.59375 34.71875 \r\nQ 14.59375 21.78125 21.546875 14.328125 \r\nQ 28.515625 6.890625 39.015625 6.890625 \r\nQ 49.703125 6.890625 56.609375 14.40625 \r\nQ 63.53125 21.921875 63.53125 35.75 \r\nQ 63.53125 44.484375 60.578125 51 \r\nQ 57.625 57.515625 51.921875 61.109375 \r\nQ 46.234375 64.703125 39.15625 64.703125 \r\nQ 29.109375 64.703125 21.84375 57.78125 \r\nQ 14.59375 50.875 14.59375 34.71875 \r\nz\r\n\" id=\"ArialMT-79\"/>\r\n      </defs>\r\n      <g style=\"fill:#262626;\" transform=\"translate(430.991913 604.072187)rotate(-90)scale(0.1 -0.1)\">\r\n       <use xlink:href=\"#ArialMT-79\"/>\r\n       <use x=\"77.783203\" xlink:href=\"#ArialMT-100\"/>\r\n       <use x=\"133.398438\" xlink:href=\"#ArialMT-105\"/>\r\n       <use x=\"155.615234\" xlink:href=\"#ArialMT-115\"/>\r\n       <use x=\"205.615234\" xlink:href=\"#ArialMT-104\"/>\r\n       <use x=\"261.230469\" xlink:href=\"#ArialMT-97\"/>\r\n      </g>\r\n     </g>\r\n    </g>\r\n    <g id=\"xtick_18\">\r\n     <g id=\"text_18\">\r\n      <!-- Jharkhand -->\r\n      <g style=\"fill:#262626;\" transform=\"translate(453.613535 619.084687)rotate(-90)scale(0.1 -0.1)\">\r\n       <use xlink:href=\"#ArialMT-74\"/>\r\n       <use x=\"50\" xlink:href=\"#ArialMT-104\"/>\r\n       <use x=\"105.615234\" xlink:href=\"#ArialMT-97\"/>\r\n       <use x=\"161.230469\" xlink:href=\"#ArialMT-114\"/>\r\n       <use x=\"194.53125\" xlink:href=\"#ArialMT-107\"/>\r\n       <use x=\"244.53125\" xlink:href=\"#ArialMT-104\"/>\r\n       <use x=\"300.146484\" xlink:href=\"#ArialMT-97\"/>\r\n       <use x=\"355.761719\" xlink:href=\"#ArialMT-110\"/>\r\n       <use x=\"411.376953\" xlink:href=\"#ArialMT-100\"/>\r\n      </g>\r\n     </g>\r\n    </g>\r\n    <g id=\"xtick_19\">\r\n     <g id=\"text_19\">\r\n      <!-- Chandigarh -->\r\n      <defs>\r\n       <path d=\"M 58.796875 25.09375 \r\nL 68.265625 22.703125 \r\nQ 65.28125 11.03125 57.546875 4.90625 \r\nQ 49.8125 -1.21875 38.625 -1.21875 \r\nQ 27.046875 -1.21875 19.796875 3.484375 \r\nQ 12.546875 8.203125 8.765625 17.140625 \r\nQ 4.984375 26.078125 4.984375 36.328125 \r\nQ 4.984375 47.515625 9.25 55.828125 \r\nQ 13.53125 64.15625 21.40625 68.46875 \r\nQ 29.296875 72.796875 38.765625 72.796875 \r\nQ 49.515625 72.796875 56.828125 67.328125 \r\nQ 64.15625 61.859375 67.046875 51.953125 \r\nL 57.71875 49.75 \r\nQ 55.21875 57.5625 50.484375 61.125 \r\nQ 45.75 64.703125 38.578125 64.703125 \r\nQ 30.328125 64.703125 24.78125 60.734375 \r\nQ 19.234375 56.78125 16.984375 50.109375 \r\nQ 14.75 43.453125 14.75 36.375 \r\nQ 14.75 27.25 17.40625 20.4375 \r\nQ 20.0625 13.625 25.671875 10.25 \r\nQ 31.296875 6.890625 37.84375 6.890625 \r\nQ 45.796875 6.890625 51.3125 11.46875 \r\nQ 56.84375 16.0625 58.796875 25.09375 \r\nz\r\n\" id=\"ArialMT-67\"/>\r\n      </defs>\r\n      <g style=\"fill:#262626;\" transform=\"translate(476.2375 624.089375)rotate(-90)scale(0.1 -0.1)\">\r\n       <use xlink:href=\"#ArialMT-67\"/>\r\n       <use x=\"72.216797\" xlink:href=\"#ArialMT-104\"/>\r\n       <use x=\"127.832031\" xlink:href=\"#ArialMT-97\"/>\r\n       <use x=\"183.447266\" xlink:href=\"#ArialMT-110\"/>\r\n       <use x=\"239.0625\" xlink:href=\"#ArialMT-100\"/>\r\n       <use x=\"294.677734\" xlink:href=\"#ArialMT-105\"/>\r\n       <use x=\"316.894531\" xlink:href=\"#ArialMT-103\"/>\r\n       <use x=\"372.509766\" xlink:href=\"#ArialMT-97\"/>\r\n       <use x=\"428.125\" xlink:href=\"#ArialMT-114\"/>\r\n       <use x=\"461.425781\" xlink:href=\"#ArialMT-104\"/>\r\n      </g>\r\n     </g>\r\n    </g>\r\n    <g id=\"xtick_20\">\r\n     <g id=\"text_20\">\r\n      <!-- Uttarakhand -->\r\n      <g style=\"fill:#262626;\" transform=\"translate(498.856778 626.862812)rotate(-90)scale(0.1 -0.1)\">\r\n       <use xlink:href=\"#ArialMT-85\"/>\r\n       <use x=\"72.216797\" xlink:href=\"#ArialMT-116\"/>\r\n       <use x=\"100\" xlink:href=\"#ArialMT-116\"/>\r\n       <use x=\"127.783203\" xlink:href=\"#ArialMT-97\"/>\r\n       <use x=\"183.398438\" xlink:href=\"#ArialMT-114\"/>\r\n       <use x=\"216.699219\" xlink:href=\"#ArialMT-97\"/>\r\n       <use x=\"272.314453\" xlink:href=\"#ArialMT-107\"/>\r\n       <use x=\"322.314453\" xlink:href=\"#ArialMT-104\"/>\r\n       <use x=\"377.929688\" xlink:href=\"#ArialMT-97\"/>\r\n       <use x=\"433.544922\" xlink:href=\"#ArialMT-110\"/>\r\n       <use x=\"489.160156\" xlink:href=\"#ArialMT-100\"/>\r\n      </g>\r\n     </g>\r\n    </g>\r\n    <g id=\"xtick_21\">\r\n     <g id=\"text_21\">\r\n      <!-- Himachal Pradesh -->\r\n      <defs>\r\n       <path d=\"M 40.4375 19 \r\nL 49.078125 17.875 \r\nQ 47.65625 8.9375 41.8125 3.875 \r\nQ 35.984375 -1.171875 27.484375 -1.171875 \r\nQ 16.84375 -1.171875 10.375 5.78125 \r\nQ 3.90625 12.75 3.90625 25.734375 \r\nQ 3.90625 34.125 6.6875 40.421875 \r\nQ 9.46875 46.734375 15.15625 49.875 \r\nQ 20.84375 53.03125 27.546875 53.03125 \r\nQ 35.984375 53.03125 41.359375 48.75 \r\nQ 46.734375 44.484375 48.25 36.625 \r\nL 39.703125 35.296875 \r\nQ 38.484375 40.53125 35.375 43.15625 \r\nQ 32.28125 45.796875 27.875 45.796875 \r\nQ 21.234375 45.796875 17.078125 41.03125 \r\nQ 12.9375 36.28125 12.9375 25.984375 \r\nQ 12.9375 15.53125 16.9375 10.796875 \r\nQ 20.953125 6.0625 27.390625 6.0625 \r\nQ 32.5625 6.0625 36.03125 9.234375 \r\nQ 39.5 12.40625 40.4375 19 \r\nz\r\n\" id=\"ArialMT-99\"/>\r\n      </defs>\r\n      <g style=\"fill:#262626;\" transform=\"translate(521.478399 654.089375)rotate(-90)scale(0.1 -0.1)\">\r\n       <use xlink:href=\"#ArialMT-72\"/>\r\n       <use x=\"72.216797\" xlink:href=\"#ArialMT-105\"/>\r\n       <use x=\"94.433594\" xlink:href=\"#ArialMT-109\"/>\r\n       <use x=\"177.734375\" xlink:href=\"#ArialMT-97\"/>\r\n       <use x=\"233.349609\" xlink:href=\"#ArialMT-99\"/>\r\n       <use x=\"283.349609\" xlink:href=\"#ArialMT-104\"/>\r\n       <use x=\"338.964844\" xlink:href=\"#ArialMT-97\"/>\r\n       <use x=\"394.580078\" xlink:href=\"#ArialMT-108\"/>\r\n       <use x=\"416.796875\" xlink:href=\"#ArialMT-32\"/>\r\n       <use x=\"444.580078\" xlink:href=\"#ArialMT-80\"/>\r\n       <use x=\"511.279297\" xlink:href=\"#ArialMT-114\"/>\r\n       <use x=\"544.580078\" xlink:href=\"#ArialMT-97\"/>\r\n       <use x=\"600.195312\" xlink:href=\"#ArialMT-100\"/>\r\n       <use x=\"655.810547\" xlink:href=\"#ArialMT-101\"/>\r\n       <use x=\"711.425781\" xlink:href=\"#ArialMT-115\"/>\r\n       <use x=\"761.425781\" xlink:href=\"#ArialMT-104\"/>\r\n      </g>\r\n     </g>\r\n    </g>\r\n    <g id=\"xtick_22\">\r\n     <g id=\"text_22\">\r\n      <!-- Assam -->\r\n      <g style=\"fill:#262626;\" transform=\"translate(544.100021 602.950312)rotate(-90)scale(0.1 -0.1)\">\r\n       <use xlink:href=\"#ArialMT-65\"/>\r\n       <use x=\"66.699219\" xlink:href=\"#ArialMT-115\"/>\r\n       <use x=\"116.699219\" xlink:href=\"#ArialMT-115\"/>\r\n       <use x=\"166.699219\" xlink:href=\"#ArialMT-97\"/>\r\n       <use x=\"222.314453\" xlink:href=\"#ArialMT-109\"/>\r\n      </g>\r\n     </g>\r\n    </g>\r\n    <g id=\"xtick_23\">\r\n     <g id=\"text_23\">\r\n      <!-- Chhattisgarh -->\r\n      <g style=\"fill:#262626;\" transform=\"translate(566.723986 629.084687)rotate(-90)scale(0.1 -0.1)\">\r\n       <use xlink:href=\"#ArialMT-67\"/>\r\n       <use x=\"72.216797\" xlink:href=\"#ArialMT-104\"/>\r\n       <use x=\"127.832031\" xlink:href=\"#ArialMT-104\"/>\r\n       <use x=\"183.447266\" xlink:href=\"#ArialMT-97\"/>\r\n       <use x=\"239.0625\" xlink:href=\"#ArialMT-116\"/>\r\n       <use x=\"266.845703\" xlink:href=\"#ArialMT-116\"/>\r\n       <use x=\"294.628906\" xlink:href=\"#ArialMT-105\"/>\r\n       <use x=\"316.845703\" xlink:href=\"#ArialMT-115\"/>\r\n       <use x=\"366.845703\" xlink:href=\"#ArialMT-103\"/>\r\n       <use x=\"422.460938\" xlink:href=\"#ArialMT-97\"/>\r\n       <use x=\"478.076172\" xlink:href=\"#ArialMT-114\"/>\r\n       <use x=\"511.376953\" xlink:href=\"#ArialMT-104\"/>\r\n      </g>\r\n     </g>\r\n    </g>\r\n    <g id=\"xtick_24\">\r\n     <g id=\"text_24\">\r\n      <!-- Andaman and Nicobar Islands -->\r\n      <defs>\r\n       <path d=\"M 3.328125 25.921875 \r\nQ 3.328125 40.328125 11.328125 47.265625 \r\nQ 18.015625 53.03125 27.640625 53.03125 \r\nQ 38.328125 53.03125 45.109375 46.015625 \r\nQ 51.90625 39.015625 51.90625 26.65625 \r\nQ 51.90625 16.65625 48.90625 10.90625 \r\nQ 45.90625 5.171875 40.15625 2 \r\nQ 34.421875 -1.171875 27.640625 -1.171875 \r\nQ 16.75 -1.171875 10.03125 5.8125 \r\nQ 3.328125 12.796875 3.328125 25.921875 \r\nz\r\nM 12.359375 25.921875 \r\nQ 12.359375 15.96875 16.703125 11.015625 \r\nQ 21.046875 6.0625 27.640625 6.0625 \r\nQ 34.1875 6.0625 38.53125 11.03125 \r\nQ 42.875 16.015625 42.875 26.21875 \r\nQ 42.875 35.84375 38.5 40.796875 \r\nQ 34.125 45.75 27.640625 45.75 \r\nQ 21.046875 45.75 16.703125 40.8125 \r\nQ 12.359375 35.890625 12.359375 25.921875 \r\nz\r\n\" id=\"ArialMT-111\"/>\r\n       <path d=\"M 9.328125 0 \r\nL 9.328125 71.578125 \r\nL 18.796875 71.578125 \r\nL 18.796875 0 \r\nz\r\n\" id=\"ArialMT-73\"/>\r\n      </defs>\r\n      <g style=\"fill:#262626;\" transform=\"translate(589.343264 706.350312)rotate(-90)scale(0.1 -0.1)\">\r\n       <use xlink:href=\"#ArialMT-65\"/>\r\n       <use x=\"66.699219\" xlink:href=\"#ArialMT-110\"/>\r\n       <use x=\"122.314453\" xlink:href=\"#ArialMT-100\"/>\r\n       <use x=\"177.929688\" xlink:href=\"#ArialMT-97\"/>\r\n       <use x=\"233.544922\" xlink:href=\"#ArialMT-109\"/>\r\n       <use x=\"316.845703\" xlink:href=\"#ArialMT-97\"/>\r\n       <use x=\"372.460938\" xlink:href=\"#ArialMT-110\"/>\r\n       <use x=\"428.076172\" xlink:href=\"#ArialMT-32\"/>\r\n       <use x=\"455.859375\" xlink:href=\"#ArialMT-97\"/>\r\n       <use x=\"511.474609\" xlink:href=\"#ArialMT-110\"/>\r\n       <use x=\"567.089844\" xlink:href=\"#ArialMT-100\"/>\r\n       <use x=\"622.705078\" xlink:href=\"#ArialMT-32\"/>\r\n       <use x=\"650.488281\" xlink:href=\"#ArialMT-78\"/>\r\n       <use x=\"722.705078\" xlink:href=\"#ArialMT-105\"/>\r\n       <use x=\"744.921875\" xlink:href=\"#ArialMT-99\"/>\r\n       <use x=\"794.921875\" xlink:href=\"#ArialMT-111\"/>\r\n       <use x=\"850.537109\" xlink:href=\"#ArialMT-98\"/>\r\n       <use x=\"906.152344\" xlink:href=\"#ArialMT-97\"/>\r\n       <use x=\"961.767578\" xlink:href=\"#ArialMT-114\"/>\r\n       <use x=\"995.068359\" xlink:href=\"#ArialMT-32\"/>\r\n       <use x=\"1022.851562\" xlink:href=\"#ArialMT-73\"/>\r\n       <use x=\"1050.634766\" xlink:href=\"#ArialMT-115\"/>\r\n       <use x=\"1100.634766\" xlink:href=\"#ArialMT-108\"/>\r\n       <use x=\"1122.851562\" xlink:href=\"#ArialMT-97\"/>\r\n       <use x=\"1178.466797\" xlink:href=\"#ArialMT-110\"/>\r\n       <use x=\"1234.082031\" xlink:href=\"#ArialMT-100\"/>\r\n       <use x=\"1289.697266\" xlink:href=\"#ArialMT-115\"/>\r\n      </g>\r\n     </g>\r\n    </g>\r\n    <g id=\"xtick_25\">\r\n     <g id=\"text_25\">\r\n      <!-- Ladakh -->\r\n      <defs>\r\n       <path d=\"M 7.328125 0 \r\nL 7.328125 71.578125 \r\nL 16.796875 71.578125 \r\nL 16.796875 8.453125 \r\nL 52.046875 8.453125 \r\nL 52.046875 0 \r\nz\r\n\" id=\"ArialMT-76\"/>\r\n      </defs>\r\n      <g style=\"fill:#262626;\" transform=\"translate(611.964886 605.194062)rotate(-90)scale(0.1 -0.1)\">\r\n       <use xlink:href=\"#ArialMT-76\"/>\r\n       <use x=\"55.615234\" xlink:href=\"#ArialMT-97\"/>\r\n       <use x=\"111.230469\" xlink:href=\"#ArialMT-100\"/>\r\n       <use x=\"166.845703\" xlink:href=\"#ArialMT-97\"/>\r\n       <use x=\"222.460938\" xlink:href=\"#ArialMT-107\"/>\r\n       <use x=\"272.460938\" xlink:href=\"#ArialMT-104\"/>\r\n      </g>\r\n     </g>\r\n    </g>\r\n    <g id=\"xtick_26\">\r\n     <g id=\"text_26\">\r\n      <!-- Meghalaya -->\r\n      <g style=\"fill:#262626;\" transform=\"translate(634.527914 621.306562)rotate(-90)scale(0.1 -0.1)\">\r\n       <use xlink:href=\"#ArialMT-77\"/>\r\n       <use x=\"83.300781\" xlink:href=\"#ArialMT-101\"/>\r\n       <use x=\"138.916016\" xlink:href=\"#ArialMT-103\"/>\r\n       <use x=\"194.53125\" xlink:href=\"#ArialMT-104\"/>\r\n       <use x=\"250.146484\" xlink:href=\"#ArialMT-97\"/>\r\n       <use x=\"305.761719\" xlink:href=\"#ArialMT-108\"/>\r\n       <use x=\"327.978516\" xlink:href=\"#ArialMT-97\"/>\r\n       <use x=\"383.59375\" xlink:href=\"#ArialMT-121\"/>\r\n       <use x=\"433.59375\" xlink:href=\"#ArialMT-97\"/>\r\n      </g>\r\n     </g>\r\n    </g>\r\n    <g id=\"xtick_27\">\r\n     <g id=\"text_27\">\r\n      <!-- Puducherry -->\r\n      <g style=\"fill:#262626;\" transform=\"translate(657.149535 623.52375)rotate(-90)scale(0.1 -0.1)\">\r\n       <use xlink:href=\"#ArialMT-80\"/>\r\n       <use x=\"66.699219\" xlink:href=\"#ArialMT-117\"/>\r\n       <use x=\"122.314453\" xlink:href=\"#ArialMT-100\"/>\r\n       <use x=\"177.929688\" xlink:href=\"#ArialMT-117\"/>\r\n       <use x=\"233.544922\" xlink:href=\"#ArialMT-99\"/>\r\n       <use x=\"283.544922\" xlink:href=\"#ArialMT-104\"/>\r\n       <use x=\"339.160156\" xlink:href=\"#ArialMT-101\"/>\r\n       <use x=\"394.775391\" xlink:href=\"#ArialMT-114\"/>\r\n       <use x=\"428.076172\" xlink:href=\"#ArialMT-114\"/>\r\n       <use x=\"461.376953\" xlink:href=\"#ArialMT-121\"/>\r\n      </g>\r\n     </g>\r\n    </g>\r\n    <g id=\"xtick_28\">\r\n     <g id=\"text_28\">\r\n      <!-- Goa -->\r\n      <g style=\"fill:#262626;\" transform=\"translate(679.829751 591.289375)rotate(-90)scale(0.1 -0.1)\">\r\n       <use xlink:href=\"#ArialMT-71\"/>\r\n       <use x=\"77.783203\" xlink:href=\"#ArialMT-111\"/>\r\n       <use x=\"133.398438\" xlink:href=\"#ArialMT-97\"/>\r\n      </g>\r\n     </g>\r\n    </g>\r\n    <g id=\"xtick_29\">\r\n     <g id=\"text_29\">\r\n      <!-- Manipur -->\r\n      <defs>\r\n       <path d=\"M 6.59375 -19.875 \r\nL 6.59375 51.859375 \r\nL 14.59375 51.859375 \r\nL 14.59375 45.125 \r\nQ 17.4375 49.078125 21 51.046875 \r\nQ 24.5625 53.03125 29.640625 53.03125 \r\nQ 36.28125 53.03125 41.359375 49.609375 \r\nQ 46.4375 46.1875 49.015625 39.953125 \r\nQ 51.609375 33.734375 51.609375 26.3125 \r\nQ 51.609375 18.359375 48.75 11.984375 \r\nQ 45.90625 5.609375 40.453125 2.21875 \r\nQ 35.015625 -1.171875 29 -1.171875 \r\nQ 24.609375 -1.171875 21.109375 0.6875 \r\nQ 17.625 2.546875 15.375 5.375 \r\nL 15.375 -19.875 \r\nz\r\nM 14.546875 25.640625 \r\nQ 14.546875 15.625 18.59375 10.84375 \r\nQ 22.65625 6.0625 28.421875 6.0625 \r\nQ 34.28125 6.0625 38.453125 11.015625 \r\nQ 42.625 15.96875 42.625 26.375 \r\nQ 42.625 36.28125 38.546875 41.203125 \r\nQ 34.46875 46.140625 28.8125 46.140625 \r\nQ 23.1875 46.140625 18.859375 40.890625 \r\nQ 14.546875 35.640625 14.546875 25.640625 \r\nz\r\n\" id=\"ArialMT-112\"/>\r\n      </defs>\r\n      <g style=\"fill:#262626;\" transform=\"translate(702.451372 608.514375)rotate(-90)scale(0.1 -0.1)\">\r\n       <use xlink:href=\"#ArialMT-77\"/>\r\n       <use x=\"83.300781\" xlink:href=\"#ArialMT-97\"/>\r\n       <use x=\"138.916016\" xlink:href=\"#ArialMT-110\"/>\r\n       <use x=\"194.53125\" xlink:href=\"#ArialMT-105\"/>\r\n       <use x=\"216.748047\" xlink:href=\"#ArialMT-112\"/>\r\n       <use x=\"272.363281\" xlink:href=\"#ArialMT-117\"/>\r\n       <use x=\"327.978516\" xlink:href=\"#ArialMT-114\"/>\r\n      </g>\r\n     </g>\r\n    </g>\r\n    <g id=\"xtick_30\">\r\n     <g id=\"text_30\">\r\n      <!-- Tripura -->\r\n      <g style=\"fill:#262626;\" transform=\"translate(725.072994 603.68625)rotate(-90)scale(0.1 -0.1)\">\r\n       <use xlink:href=\"#ArialMT-84\"/>\r\n       <use x=\"57.333984\" xlink:href=\"#ArialMT-114\"/>\r\n       <use x=\"90.634766\" xlink:href=\"#ArialMT-105\"/>\r\n       <use x=\"112.851562\" xlink:href=\"#ArialMT-112\"/>\r\n       <use x=\"168.466797\" xlink:href=\"#ArialMT-117\"/>\r\n       <use x=\"224.082031\" xlink:href=\"#ArialMT-114\"/>\r\n       <use x=\"257.382812\" xlink:href=\"#ArialMT-97\"/>\r\n      </g>\r\n     </g>\r\n    </g>\r\n    <g id=\"xtick_31\">\r\n     <g id=\"text_31\">\r\n      <!-- Mizoram -->\r\n      <defs>\r\n       <path d=\"M 1.953125 0 \r\nL 1.953125 7.125 \r\nL 34.96875 45.015625 \r\nQ 29.34375 44.734375 25.046875 44.734375 \r\nL 3.90625 44.734375 \r\nL 3.90625 51.859375 \r\nL 46.296875 51.859375 \r\nL 46.296875 46.046875 \r\nL 18.21875 13.140625 \r\nL 12.796875 7.125 \r\nQ 18.703125 7.5625 23.875 7.5625 \r\nL 47.859375 7.5625 \r\nL 47.859375 0 \r\nz\r\n\" id=\"ArialMT-122\"/>\r\n      </defs>\r\n      <g style=\"fill:#262626;\" transform=\"translate(747.694616 610.722187)rotate(-90)scale(0.1 -0.1)\">\r\n       <use xlink:href=\"#ArialMT-77\"/>\r\n       <use x=\"83.300781\" xlink:href=\"#ArialMT-105\"/>\r\n       <use x=\"105.517578\" xlink:href=\"#ArialMT-122\"/>\r\n       <use x=\"155.517578\" xlink:href=\"#ArialMT-111\"/>\r\n       <use x=\"211.132812\" xlink:href=\"#ArialMT-114\"/>\r\n       <use x=\"244.433594\" xlink:href=\"#ArialMT-97\"/>\r\n       <use x=\"300.048828\" xlink:href=\"#ArialMT-109\"/>\r\n      </g>\r\n     </g>\r\n    </g>\r\n    <g id=\"xtick_32\">\r\n     <g id=\"text_32\">\r\n      <!-- Arunachal Pradesh -->\r\n      <g style=\"fill:#262626;\" transform=\"translate(770.316237 657.437812)rotate(-90)scale(0.1 -0.1)\">\r\n       <use xlink:href=\"#ArialMT-65\"/>\r\n       <use x=\"66.699219\" xlink:href=\"#ArialMT-114\"/>\r\n       <use x=\"100\" xlink:href=\"#ArialMT-117\"/>\r\n       <use x=\"155.615234\" xlink:href=\"#ArialMT-110\"/>\r\n       <use x=\"211.230469\" xlink:href=\"#ArialMT-97\"/>\r\n       <use x=\"266.845703\" xlink:href=\"#ArialMT-99\"/>\r\n       <use x=\"316.845703\" xlink:href=\"#ArialMT-104\"/>\r\n       <use x=\"372.460938\" xlink:href=\"#ArialMT-97\"/>\r\n       <use x=\"428.076172\" xlink:href=\"#ArialMT-108\"/>\r\n       <use x=\"450.292969\" xlink:href=\"#ArialMT-32\"/>\r\n       <use x=\"478.076172\" xlink:href=\"#ArialMT-80\"/>\r\n       <use x=\"544.775391\" xlink:href=\"#ArialMT-114\"/>\r\n       <use x=\"578.076172\" xlink:href=\"#ArialMT-97\"/>\r\n       <use x=\"633.691406\" xlink:href=\"#ArialMT-100\"/>\r\n       <use x=\"689.306641\" xlink:href=\"#ArialMT-101\"/>\r\n       <use x=\"744.921875\" xlink:href=\"#ArialMT-115\"/>\r\n       <use x=\"794.921875\" xlink:href=\"#ArialMT-104\"/>\r\n      </g>\r\n     </g>\r\n    </g>\r\n    <g id=\"xtick_33\">\r\n     <g id=\"text_33\">\r\n      <!-- Nagaland -->\r\n      <g style=\"fill:#262626;\" transform=\"translate(792.879265 615.19875)rotate(-90)scale(0.1 -0.1)\">\r\n       <use xlink:href=\"#ArialMT-78\"/>\r\n       <use x=\"72.216797\" xlink:href=\"#ArialMT-97\"/>\r\n       <use x=\"127.832031\" xlink:href=\"#ArialMT-103\"/>\r\n       <use x=\"183.447266\" xlink:href=\"#ArialMT-97\"/>\r\n       <use x=\"239.0625\" xlink:href=\"#ArialMT-108\"/>\r\n       <use x=\"261.279297\" xlink:href=\"#ArialMT-97\"/>\r\n       <use x=\"316.894531\" xlink:href=\"#ArialMT-110\"/>\r\n       <use x=\"372.509766\" xlink:href=\"#ArialMT-100\"/>\r\n      </g>\r\n     </g>\r\n    </g>\r\n    <g id=\"xtick_34\">\r\n     <g id=\"text_34\">\r\n      <!-- Dadra and Nagar Haveli -->\r\n      <defs>\r\n       <path d=\"M 21 0 \r\nL 1.265625 51.859375 \r\nL 10.546875 51.859375 \r\nL 21.6875 20.796875 \r\nQ 23.484375 15.765625 25 10.359375 \r\nQ 26.171875 14.453125 28.265625 20.21875 \r\nL 39.796875 51.859375 \r\nL 48.828125 51.859375 \r\nL 29.203125 0 \r\nz\r\n\" id=\"ArialMT-118\"/>\r\n      </defs>\r\n      <g style=\"fill:#262626;\" transform=\"translate(815.500887 679.662812)rotate(-90)scale(0.1 -0.1)\">\r\n       <use xlink:href=\"#ArialMT-68\"/>\r\n       <use x=\"72.216797\" xlink:href=\"#ArialMT-97\"/>\r\n       <use x=\"127.832031\" xlink:href=\"#ArialMT-100\"/>\r\n       <use x=\"183.447266\" xlink:href=\"#ArialMT-114\"/>\r\n       <use x=\"216.748047\" xlink:href=\"#ArialMT-97\"/>\r\n       <use x=\"272.363281\" xlink:href=\"#ArialMT-32\"/>\r\n       <use x=\"300.146484\" xlink:href=\"#ArialMT-97\"/>\r\n       <use x=\"355.761719\" xlink:href=\"#ArialMT-110\"/>\r\n       <use x=\"411.376953\" xlink:href=\"#ArialMT-100\"/>\r\n       <use x=\"466.992188\" xlink:href=\"#ArialMT-32\"/>\r\n       <use x=\"494.775391\" xlink:href=\"#ArialMT-78\"/>\r\n       <use x=\"566.992188\" xlink:href=\"#ArialMT-97\"/>\r\n       <use x=\"622.607422\" xlink:href=\"#ArialMT-103\"/>\r\n       <use x=\"678.222656\" xlink:href=\"#ArialMT-97\"/>\r\n       <use x=\"733.837891\" xlink:href=\"#ArialMT-114\"/>\r\n       <use x=\"767.138672\" xlink:href=\"#ArialMT-32\"/>\r\n       <use x=\"794.921875\" xlink:href=\"#ArialMT-72\"/>\r\n       <use x=\"867.138672\" xlink:href=\"#ArialMT-97\"/>\r\n       <use x=\"922.753906\" xlink:href=\"#ArialMT-118\"/>\r\n       <use x=\"972.753906\" xlink:href=\"#ArialMT-101\"/>\r\n       <use x=\"1028.369141\" xlink:href=\"#ArialMT-108\"/>\r\n       <use x=\"1050.585938\" xlink:href=\"#ArialMT-105\"/>\r\n      </g>\r\n     </g>\r\n    </g>\r\n    <g id=\"xtick_35\">\r\n     <g id=\"text_35\">\r\n      <!-- Daman and Diu -->\r\n      <g style=\"fill:#262626;\" transform=\"translate(838.181102 641.8675)rotate(-90)scale(0.1 -0.1)\">\r\n       <use xlink:href=\"#ArialMT-68\"/>\r\n       <use x=\"72.216797\" xlink:href=\"#ArialMT-97\"/>\r\n       <use x=\"127.832031\" xlink:href=\"#ArialMT-109\"/>\r\n       <use x=\"211.132812\" xlink:href=\"#ArialMT-97\"/>\r\n       <use x=\"266.748047\" xlink:href=\"#ArialMT-110\"/>\r\n       <use x=\"322.363281\" xlink:href=\"#ArialMT-32\"/>\r\n       <use x=\"350.146484\" xlink:href=\"#ArialMT-97\"/>\r\n       <use x=\"405.761719\" xlink:href=\"#ArialMT-110\"/>\r\n       <use x=\"461.376953\" xlink:href=\"#ArialMT-100\"/>\r\n       <use x=\"516.992188\" xlink:href=\"#ArialMT-32\"/>\r\n       <use x=\"544.775391\" xlink:href=\"#ArialMT-68\"/>\r\n       <use x=\"616.992188\" xlink:href=\"#ArialMT-105\"/>\r\n       <use x=\"639.208984\" xlink:href=\"#ArialMT-117\"/>\r\n      </g>\r\n     </g>\r\n    </g>\r\n    <g id=\"xtick_36\">\r\n     <g id=\"text_36\">\r\n      <!-- Lakshadweep -->\r\n      <defs>\r\n       <path d=\"M 16.15625 0 \r\nL 0.296875 51.859375 \r\nL 9.375 51.859375 \r\nL 17.625 21.921875 \r\nL 20.703125 10.796875 \r\nQ 20.90625 11.625 23.390625 21.484375 \r\nL 31.640625 51.859375 \r\nL 40.671875 51.859375 \r\nL 48.4375 21.78125 \r\nL 51.03125 11.859375 \r\nL 54 21.875 \r\nL 62.890625 51.859375 \r\nL 71.4375 51.859375 \r\nL 55.21875 0 \r\nL 46.09375 0 \r\nL 37.84375 31.0625 \r\nL 35.84375 39.890625 \r\nL 25.34375 0 \r\nz\r\n\" id=\"ArialMT-119\"/>\r\n      </defs>\r\n      <g style=\"fill:#262626;\" transform=\"translate(860.802724 634.09875)rotate(-90)scale(0.1 -0.1)\">\r\n       <use xlink:href=\"#ArialMT-76\"/>\r\n       <use x=\"55.615234\" xlink:href=\"#ArialMT-97\"/>\r\n       <use x=\"111.230469\" xlink:href=\"#ArialMT-107\"/>\r\n       <use x=\"161.230469\" xlink:href=\"#ArialMT-115\"/>\r\n       <use x=\"211.230469\" xlink:href=\"#ArialMT-104\"/>\r\n       <use x=\"266.845703\" xlink:href=\"#ArialMT-97\"/>\r\n       <use x=\"322.460938\" xlink:href=\"#ArialMT-100\"/>\r\n       <use x=\"378.076172\" xlink:href=\"#ArialMT-119\"/>\r\n       <use x=\"450.292969\" xlink:href=\"#ArialMT-101\"/>\r\n       <use x=\"505.908203\" xlink:href=\"#ArialMT-101\"/>\r\n       <use x=\"561.523438\" xlink:href=\"#ArialMT-112\"/>\r\n      </g>\r\n     </g>\r\n    </g>\r\n    <g id=\"xtick_37\">\r\n     <g id=\"text_37\">\r\n      <!-- Sikkim -->\r\n      <defs>\r\n       <path d=\"M 4.5 23 \r\nL 13.421875 23.78125 \r\nQ 14.0625 18.40625 16.375 14.96875 \r\nQ 18.703125 11.53125 23.578125 9.40625 \r\nQ 28.46875 7.28125 34.578125 7.28125 \r\nQ 39.984375 7.28125 44.140625 8.890625 \r\nQ 48.296875 10.5 50.3125 13.296875 \r\nQ 52.34375 16.109375 52.34375 19.4375 \r\nQ 52.34375 22.796875 50.390625 25.3125 \r\nQ 48.4375 27.828125 43.953125 29.546875 \r\nQ 41.0625 30.671875 31.203125 33.03125 \r\nQ 21.34375 35.40625 17.390625 37.5 \r\nQ 12.25 40.1875 9.734375 44.15625 \r\nQ 7.234375 48.140625 7.234375 53.078125 \r\nQ 7.234375 58.5 10.296875 63.203125 \r\nQ 13.375 67.921875 19.28125 70.359375 \r\nQ 25.203125 72.796875 32.421875 72.796875 \r\nQ 40.375 72.796875 46.453125 70.234375 \r\nQ 52.546875 67.671875 55.8125 62.6875 \r\nQ 59.078125 57.71875 59.328125 51.421875 \r\nL 50.25 50.734375 \r\nQ 49.515625 57.515625 45.28125 60.984375 \r\nQ 41.0625 64.453125 32.8125 64.453125 \r\nQ 24.21875 64.453125 20.28125 61.296875 \r\nQ 16.359375 58.15625 16.359375 53.71875 \r\nQ 16.359375 49.859375 19.140625 47.359375 \r\nQ 21.875 44.875 33.421875 42.265625 \r\nQ 44.96875 39.65625 49.265625 37.703125 \r\nQ 55.515625 34.8125 58.484375 30.390625 \r\nQ 61.46875 25.984375 61.46875 20.21875 \r\nQ 61.46875 14.5 58.203125 9.4375 \r\nQ 54.9375 4.390625 48.796875 1.578125 \r\nQ 42.671875 -1.21875 35.015625 -1.21875 \r\nQ 25.296875 -1.21875 18.71875 1.609375 \r\nQ 12.15625 4.4375 8.421875 10.125 \r\nQ 4.6875 15.828125 4.5 23 \r\nz\r\n\" id=\"ArialMT-83\"/>\r\n      </defs>\r\n      <g style=\"fill:#262626;\" transform=\"translate(883.424345 601.833125)rotate(-90)scale(0.1 -0.1)\">\r\n       <use xlink:href=\"#ArialMT-83\"/>\r\n       <use x=\"66.699219\" xlink:href=\"#ArialMT-105\"/>\r\n       <use x=\"88.916016\" xlink:href=\"#ArialMT-107\"/>\r\n       <use x=\"138.916016\" xlink:href=\"#ArialMT-107\"/>\r\n       <use x=\"188.916016\" xlink:href=\"#ArialMT-105\"/>\r\n       <use x=\"211.132812\" xlink:href=\"#ArialMT-109\"/>\r\n      </g>\r\n     </g>\r\n    </g>\r\n    <g id=\"text_38\">\r\n     <!-- state -->\r\n     <g style=\"fill:#262626;\" transform=\"translate(462.810938 717.508125)scale(0.1 -0.1)\">\r\n      <use xlink:href=\"#ArialMT-115\"/>\r\n      <use x=\"50\" xlink:href=\"#ArialMT-116\"/>\r\n      <use x=\"77.783203\" xlink:href=\"#ArialMT-97\"/>\r\n      <use x=\"133.398438\" xlink:href=\"#ArialMT-116\"/>\r\n      <use x=\"161.181641\" xlink:href=\"#ArialMT-101\"/>\r\n     </g>\r\n    </g>\r\n   </g>\r\n   <g id=\"matplotlib.axis_2\">\r\n    <g id=\"ytick_1\">\r\n     <g id=\"line2d_1\">\r\n      <path clip-path=\"url(#p315335fe98)\" d=\"M 55.15 565.389375 \r\nL 892.15 565.389375 \r\n\" style=\"fill:none;stroke:#ffffff;stroke-linecap:round;stroke-width:0.8;\"/>\r\n     </g>\r\n     <g id=\"text_39\">\r\n      <!-- 0 -->\r\n      <defs>\r\n       <path d=\"M 4.15625 35.296875 \r\nQ 4.15625 48 6.765625 55.734375 \r\nQ 9.375 63.484375 14.515625 67.671875 \r\nQ 19.671875 71.875 27.484375 71.875 \r\nQ 33.25 71.875 37.59375 69.546875 \r\nQ 41.9375 67.234375 44.765625 62.859375 \r\nQ 47.609375 58.5 49.21875 52.21875 \r\nQ 50.828125 45.953125 50.828125 35.296875 \r\nQ 50.828125 22.703125 48.234375 14.96875 \r\nQ 45.65625 7.234375 40.5 3 \r\nQ 35.359375 -1.21875 27.484375 -1.21875 \r\nQ 17.140625 -1.21875 11.234375 6.203125 \r\nQ 4.15625 15.140625 4.15625 35.296875 \r\nz\r\nM 13.1875 35.296875 \r\nQ 13.1875 17.671875 17.3125 11.828125 \r\nQ 21.4375 6 27.484375 6 \r\nQ 33.546875 6 37.671875 11.859375 \r\nQ 41.796875 17.71875 41.796875 35.296875 \r\nQ 41.796875 52.984375 37.671875 58.78125 \r\nQ 33.546875 64.59375 27.390625 64.59375 \r\nQ 21.34375 64.59375 17.71875 59.46875 \r\nQ 13.1875 52.9375 13.1875 35.296875 \r\nz\r\n\" id=\"ArialMT-48\"/>\r\n      </defs>\r\n      <g style=\"fill:#262626;\" transform=\"translate(42.589063 568.968281)scale(0.1 -0.1)\">\r\n       <use xlink:href=\"#ArialMT-48\"/>\r\n      </g>\r\n     </g>\r\n    </g>\r\n    <g id=\"ytick_2\">\r\n     <g id=\"line2d_2\">\r\n      <path clip-path=\"url(#p315335fe98)\" d=\"M 55.15 481.180805 \r\nL 892.15 481.180805 \r\n\" style=\"fill:none;stroke:#ffffff;stroke-linecap:round;stroke-width:0.8;\"/>\r\n     </g>\r\n     <g id=\"text_40\">\r\n      <!-- 2000 -->\r\n      <defs>\r\n       <path d=\"M 50.34375 8.453125 \r\nL 50.34375 0 \r\nL 3.03125 0 \r\nQ 2.9375 3.171875 4.046875 6.109375 \r\nQ 5.859375 10.9375 9.828125 15.625 \r\nQ 13.8125 20.3125 21.34375 26.46875 \r\nQ 33.015625 36.03125 37.109375 41.625 \r\nQ 41.21875 47.21875 41.21875 52.203125 \r\nQ 41.21875 57.421875 37.46875 61 \r\nQ 33.734375 64.59375 27.734375 64.59375 \r\nQ 21.390625 64.59375 17.578125 60.78125 \r\nQ 13.765625 56.984375 13.71875 50.25 \r\nL 4.6875 51.171875 \r\nQ 5.609375 61.28125 11.65625 66.578125 \r\nQ 17.71875 71.875 27.9375 71.875 \r\nQ 38.234375 71.875 44.234375 66.15625 \r\nQ 50.25 60.453125 50.25 52 \r\nQ 50.25 47.703125 48.484375 43.546875 \r\nQ 46.734375 39.40625 42.65625 34.8125 \r\nQ 38.578125 30.21875 29.109375 22.21875 \r\nQ 21.1875 15.578125 18.9375 13.203125 \r\nQ 16.703125 10.84375 15.234375 8.453125 \r\nz\r\n\" id=\"ArialMT-50\"/>\r\n      </defs>\r\n      <g style=\"fill:#262626;\" transform=\"translate(25.90625 484.759712)scale(0.1 -0.1)\">\r\n       <use xlink:href=\"#ArialMT-50\"/>\r\n       <use x=\"55.615234\" xlink:href=\"#ArialMT-48\"/>\r\n       <use x=\"111.230469\" xlink:href=\"#ArialMT-48\"/>\r\n       <use x=\"166.845703\" xlink:href=\"#ArialMT-48\"/>\r\n      </g>\r\n     </g>\r\n    </g>\r\n    <g id=\"ytick_3\">\r\n     <g id=\"line2d_3\">\r\n      <path clip-path=\"url(#p315335fe98)\" d=\"M 55.15 396.972236 \r\nL 892.15 396.972236 \r\n\" style=\"fill:none;stroke:#ffffff;stroke-linecap:round;stroke-width:0.8;\"/>\r\n     </g>\r\n     <g id=\"text_41\">\r\n      <!-- 4000 -->\r\n      <defs>\r\n       <path d=\"M 32.328125 0 \r\nL 32.328125 17.140625 \r\nL 1.265625 17.140625 \r\nL 1.265625 25.203125 \r\nL 33.9375 71.578125 \r\nL 41.109375 71.578125 \r\nL 41.109375 25.203125 \r\nL 50.78125 25.203125 \r\nL 50.78125 17.140625 \r\nL 41.109375 17.140625 \r\nL 41.109375 0 \r\nz\r\nM 32.328125 25.203125 \r\nL 32.328125 57.46875 \r\nL 9.90625 25.203125 \r\nz\r\n\" id=\"ArialMT-52\"/>\r\n      </defs>\r\n      <g style=\"fill:#262626;\" transform=\"translate(25.90625 400.551142)scale(0.1 -0.1)\">\r\n       <use xlink:href=\"#ArialMT-52\"/>\r\n       <use x=\"55.615234\" xlink:href=\"#ArialMT-48\"/>\r\n       <use x=\"111.230469\" xlink:href=\"#ArialMT-48\"/>\r\n       <use x=\"166.845703\" xlink:href=\"#ArialMT-48\"/>\r\n      </g>\r\n     </g>\r\n    </g>\r\n    <g id=\"ytick_4\">\r\n     <g id=\"line2d_4\">\r\n      <path clip-path=\"url(#p315335fe98)\" d=\"M 55.15 312.763666 \r\nL 892.15 312.763666 \r\n\" style=\"fill:none;stroke:#ffffff;stroke-linecap:round;stroke-width:0.8;\"/>\r\n     </g>\r\n     <g id=\"text_42\">\r\n      <!-- 6000 -->\r\n      <defs>\r\n       <path d=\"M 49.75 54.046875 \r\nL 41.015625 53.375 \r\nQ 39.84375 58.546875 37.703125 60.890625 \r\nQ 34.125 64.65625 28.90625 64.65625 \r\nQ 24.703125 64.65625 21.53125 62.3125 \r\nQ 17.390625 59.28125 14.984375 53.46875 \r\nQ 12.59375 47.65625 12.5 36.921875 \r\nQ 15.671875 41.75 20.265625 44.09375 \r\nQ 24.859375 46.4375 29.890625 46.4375 \r\nQ 38.671875 46.4375 44.84375 39.96875 \r\nQ 51.03125 33.5 51.03125 23.25 \r\nQ 51.03125 16.5 48.125 10.71875 \r\nQ 45.21875 4.9375 40.140625 1.859375 \r\nQ 35.0625 -1.21875 28.609375 -1.21875 \r\nQ 17.625 -1.21875 10.6875 6.859375 \r\nQ 3.765625 14.9375 3.765625 33.5 \r\nQ 3.765625 54.25 11.421875 63.671875 \r\nQ 18.109375 71.875 29.4375 71.875 \r\nQ 37.890625 71.875 43.28125 67.140625 \r\nQ 48.6875 62.40625 49.75 54.046875 \r\nz\r\nM 13.875 23.1875 \r\nQ 13.875 18.65625 15.796875 14.5 \r\nQ 17.71875 10.359375 21.1875 8.171875 \r\nQ 24.65625 6 28.46875 6 \r\nQ 34.03125 6 38.03125 10.484375 \r\nQ 42.046875 14.984375 42.046875 22.703125 \r\nQ 42.046875 30.125 38.078125 34.390625 \r\nQ 34.125 38.671875 28.125 38.671875 \r\nQ 22.171875 38.671875 18.015625 34.390625 \r\nQ 13.875 30.125 13.875 23.1875 \r\nz\r\n\" id=\"ArialMT-54\"/>\r\n      </defs>\r\n      <g style=\"fill:#262626;\" transform=\"translate(25.90625 316.342573)scale(0.1 -0.1)\">\r\n       <use xlink:href=\"#ArialMT-54\"/>\r\n       <use x=\"55.615234\" xlink:href=\"#ArialMT-48\"/>\r\n       <use x=\"111.230469\" xlink:href=\"#ArialMT-48\"/>\r\n       <use x=\"166.845703\" xlink:href=\"#ArialMT-48\"/>\r\n      </g>\r\n     </g>\r\n    </g>\r\n    <g id=\"ytick_5\">\r\n     <g id=\"line2d_5\">\r\n      <path clip-path=\"url(#p315335fe98)\" d=\"M 55.15 228.555097 \r\nL 892.15 228.555097 \r\n\" style=\"fill:none;stroke:#ffffff;stroke-linecap:round;stroke-width:0.8;\"/>\r\n     </g>\r\n     <g id=\"text_43\">\r\n      <!-- 8000 -->\r\n      <defs>\r\n       <path d=\"M 17.671875 38.8125 \r\nQ 12.203125 40.828125 9.5625 44.53125 \r\nQ 6.9375 48.25 6.9375 53.421875 \r\nQ 6.9375 61.234375 12.546875 66.546875 \r\nQ 18.171875 71.875 27.484375 71.875 \r\nQ 36.859375 71.875 42.578125 66.421875 \r\nQ 48.296875 60.984375 48.296875 53.171875 \r\nQ 48.296875 48.1875 45.671875 44.5 \r\nQ 43.0625 40.828125 37.75 38.8125 \r\nQ 44.34375 36.671875 47.78125 31.875 \r\nQ 51.21875 27.09375 51.21875 20.453125 \r\nQ 51.21875 11.28125 44.71875 5.03125 \r\nQ 38.234375 -1.21875 27.640625 -1.21875 \r\nQ 17.046875 -1.21875 10.546875 5.046875 \r\nQ 4.046875 11.328125 4.046875 20.703125 \r\nQ 4.046875 27.6875 7.59375 32.390625 \r\nQ 11.140625 37.109375 17.671875 38.8125 \r\nz\r\nM 15.921875 53.71875 \r\nQ 15.921875 48.640625 19.1875 45.40625 \r\nQ 22.46875 42.1875 27.6875 42.1875 \r\nQ 32.765625 42.1875 36.015625 45.375 \r\nQ 39.265625 48.578125 39.265625 53.21875 \r\nQ 39.265625 58.0625 35.90625 61.359375 \r\nQ 32.5625 64.65625 27.59375 64.65625 \r\nQ 22.5625 64.65625 19.234375 61.421875 \r\nQ 15.921875 58.203125 15.921875 53.71875 \r\nz\r\nM 13.09375 20.65625 \r\nQ 13.09375 16.890625 14.875 13.375 \r\nQ 16.65625 9.859375 20.171875 7.921875 \r\nQ 23.6875 6 27.734375 6 \r\nQ 34.03125 6 38.125 10.046875 \r\nQ 42.234375 14.109375 42.234375 20.359375 \r\nQ 42.234375 26.703125 38.015625 30.859375 \r\nQ 33.796875 35.015625 27.4375 35.015625 \r\nQ 21.234375 35.015625 17.15625 30.90625 \r\nQ 13.09375 26.8125 13.09375 20.65625 \r\nz\r\n\" id=\"ArialMT-56\"/>\r\n      </defs>\r\n      <g style=\"fill:#262626;\" transform=\"translate(25.90625 232.134003)scale(0.1 -0.1)\">\r\n       <use xlink:href=\"#ArialMT-56\"/>\r\n       <use x=\"55.615234\" xlink:href=\"#ArialMT-48\"/>\r\n       <use x=\"111.230469\" xlink:href=\"#ArialMT-48\"/>\r\n       <use x=\"166.845703\" xlink:href=\"#ArialMT-48\"/>\r\n      </g>\r\n     </g>\r\n    </g>\r\n    <g id=\"ytick_6\">\r\n     <g id=\"line2d_6\">\r\n      <path clip-path=\"url(#p315335fe98)\" d=\"M 55.15 144.346527 \r\nL 892.15 144.346527 \r\n\" style=\"fill:none;stroke:#ffffff;stroke-linecap:round;stroke-width:0.8;\"/>\r\n     </g>\r\n     <g id=\"text_44\">\r\n      <!-- 10000 -->\r\n      <defs>\r\n       <path d=\"M 37.25 0 \r\nL 28.46875 0 \r\nL 28.46875 56 \r\nQ 25.296875 52.984375 20.140625 49.953125 \r\nQ 14.984375 46.921875 10.890625 45.40625 \r\nL 10.890625 53.90625 \r\nQ 18.265625 57.375 23.78125 62.296875 \r\nQ 29.296875 67.234375 31.59375 71.875 \r\nL 37.25 71.875 \r\nz\r\n\" id=\"ArialMT-49\"/>\r\n      </defs>\r\n      <g style=\"fill:#262626;\" transform=\"translate(20.345313 147.925433)scale(0.1 -0.1)\">\r\n       <use xlink:href=\"#ArialMT-49\"/>\r\n       <use x=\"55.615234\" xlink:href=\"#ArialMT-48\"/>\r\n       <use x=\"111.230469\" xlink:href=\"#ArialMT-48\"/>\r\n       <use x=\"166.845703\" xlink:href=\"#ArialMT-48\"/>\r\n       <use x=\"222.460938\" xlink:href=\"#ArialMT-48\"/>\r\n      </g>\r\n     </g>\r\n    </g>\r\n    <g id=\"ytick_7\">\r\n     <g id=\"line2d_7\">\r\n      <path clip-path=\"url(#p315335fe98)\" d=\"M 55.15 60.137958 \r\nL 892.15 60.137958 \r\n\" style=\"fill:none;stroke:#ffffff;stroke-linecap:round;stroke-width:0.8;\"/>\r\n     </g>\r\n     <g id=\"text_45\">\r\n      <!-- 12000 -->\r\n      <g style=\"fill:#262626;\" transform=\"translate(20.345313 63.716864)scale(0.1 -0.1)\">\r\n       <use xlink:href=\"#ArialMT-49\"/>\r\n       <use x=\"55.615234\" xlink:href=\"#ArialMT-50\"/>\r\n       <use x=\"111.230469\" xlink:href=\"#ArialMT-48\"/>\r\n       <use x=\"166.845703\" xlink:href=\"#ArialMT-48\"/>\r\n       <use x=\"222.460938\" xlink:href=\"#ArialMT-48\"/>\r\n      </g>\r\n     </g>\r\n    </g>\r\n    <g id=\"text_46\">\r\n     <!-- confirmed -->\r\n     <defs>\r\n      <path d=\"M 8.6875 0 \r\nL 8.6875 45.015625 \r\nL 0.921875 45.015625 \r\nL 0.921875 51.859375 \r\nL 8.6875 51.859375 \r\nL 8.6875 57.375 \r\nQ 8.6875 62.59375 9.625 65.140625 \r\nQ 10.890625 68.5625 14.078125 70.671875 \r\nQ 17.28125 72.796875 23.046875 72.796875 \r\nQ 26.765625 72.796875 31.25 71.921875 \r\nL 29.9375 64.265625 \r\nQ 27.203125 64.75 24.75 64.75 \r\nQ 20.75 64.75 19.09375 63.03125 \r\nQ 17.4375 61.328125 17.4375 56.640625 \r\nL 17.4375 51.859375 \r\nL 27.546875 51.859375 \r\nL 27.546875 45.015625 \r\nL 17.4375 45.015625 \r\nL 17.4375 0 \r\nz\r\n\" id=\"ArialMT-102\"/>\r\n     </defs>\r\n     <g style=\"fill:#262626;\" transform=\"translate(14.357813 315.540937)rotate(-90)scale(0.1 -0.1)\">\r\n      <use xlink:href=\"#ArialMT-99\"/>\r\n      <use x=\"50\" xlink:href=\"#ArialMT-111\"/>\r\n      <use x=\"105.615234\" xlink:href=\"#ArialMT-110\"/>\r\n      <use x=\"161.230469\" xlink:href=\"#ArialMT-102\"/>\r\n      <use x=\"189.013672\" xlink:href=\"#ArialMT-105\"/>\r\n      <use x=\"211.230469\" xlink:href=\"#ArialMT-114\"/>\r\n      <use x=\"244.53125\" xlink:href=\"#ArialMT-109\"/>\r\n      <use x=\"327.832031\" xlink:href=\"#ArialMT-101\"/>\r\n      <use x=\"383.447266\" xlink:href=\"#ArialMT-100\"/>\r\n     </g>\r\n    </g>\r\n   </g>\r\n   <g id=\"patch_3\">\r\n    <path clip-path=\"url(#p315335fe98)\" d=\"M 57.412162 565.389375 \r\nL 75.509459 565.389375 \r\nL 75.509459 47.675089 \r\nL 57.412162 47.675089 \r\nz\r\n\" style=\"fill:#ea96a3;stroke:#ffffff;stroke-linejoin:miter;\"/>\r\n   </g>\r\n   <g id=\"patch_4\">\r\n    <path clip-path=\"url(#p315335fe98)\" d=\"M 80.033784 565.389375 \r\nL 98.131081 565.389375 \r\nL 98.131081 352.59432 \r\nL 80.033784 352.59432 \r\nz\r\n\" style=\"fill:#ea9795;stroke:#ffffff;stroke-linejoin:miter;\"/>\r\n   </g>\r\n   <g id=\"patch_5\">\r\n    <path clip-path=\"url(#p315335fe98)\" d=\"M 102.655405 565.389375 \r\nL 120.752703 565.389375 \r\nL 120.752703 391.835513 \r\nL 102.655405 391.835513 \r\nz\r\n\" style=\"fill:#e7967f;stroke:#ffffff;stroke-linejoin:miter;\"/>\r\n   </g>\r\n   <g id=\"patch_6\">\r\n    <path clip-path=\"url(#p315335fe98)\" d=\"M 125.277027 565.389375 \r\nL 143.374324 565.389375 \r\nL 143.374324 448.002629 \r\nL 125.277027 448.002629 \r\nz\r\n\" style=\"fill:#e19258;stroke:#ffffff;stroke-linejoin:miter;\"/>\r\n   </g>\r\n   <g id=\"patch_7\">\r\n    <path clip-path=\"url(#p315335fe98)\" d=\"M 147.898649 565.389375 \r\nL 165.995946 565.389375 \r\nL 165.995946 448.676298 \r\nL 147.898649 448.676298 \r\nz\r\n\" style=\"fill:#d3954d;stroke:#ffffff;stroke-linejoin:miter;\"/>\r\n   </g>\r\n   <g id=\"patch_8\">\r\n    <path clip-path=\"url(#p315335fe98)\" d=\"M 170.52027 565.389375 \r\nL 188.617568 565.389375 \r\nL 188.617568 449.307862 \r\nL 170.52027 449.307862 \r\nz\r\n\" style=\"fill:#c6994b;stroke:#ffffff;stroke-linejoin:miter;\"/>\r\n   </g>\r\n   <g id=\"patch_9\">\r\n    <path clip-path=\"url(#p315335fe98)\" d=\"M 193.141892 565.389375 \r\nL 211.239189 565.389375 \r\nL 211.239189 460.676019 \r\nL 193.141892 460.676019 \r\nz\r\n\" style=\"fill:#ba9b49;stroke:#ffffff;stroke-linejoin:miter;\"/>\r\n   </g>\r\n   <g id=\"patch_10\">\r\n    <path clip-path=\"url(#p315335fe98)\" d=\"M 215.763514 565.389375 \r\nL 233.860811 565.389375 \r\nL 233.860811 501.180341 \r\nL 215.763514 501.180341 \r\nz\r\n\" style=\"fill:#b09d48;stroke:#ffffff;stroke-linejoin:miter;\"/>\r\n   </g>\r\n   <g id=\"patch_11\">\r\n    <path clip-path=\"url(#p315335fe98)\" d=\"M 238.385135 565.389375 \r\nL 256.482432 565.389375 \r\nL 256.482432 520.716729 \r\nL 238.385135 520.716729 \r\nz\r\n\" style=\"fill:#a59f46;stroke:#ffffff;stroke-linejoin:miter;\"/>\r\n   </g>\r\n   <g id=\"patch_12\">\r\n    <path clip-path=\"url(#p315335fe98)\" d=\"M 261.006757 565.389375 \r\nL 279.104054 565.389375 \r\nL 279.104054 531.916469 \r\nL 261.006757 531.916469 \r\nz\r\n\" style=\"fill:#9aa146;stroke:#ffffff;stroke-linejoin:miter;\"/>\r\n   </g>\r\n   <g id=\"patch_13\">\r\n    <path clip-path=\"url(#p315335fe98)\" d=\"M 283.628378 565.389375 \r\nL 301.725676 565.389375 \r\nL 301.725676 537.347921 \r\nL 283.628378 537.347921 \r\nz\r\n\" style=\"fill:#8fa546;stroke:#ffffff;stroke-linejoin:miter;\"/>\r\n   </g>\r\n   <g id=\"patch_14\">\r\n    <path clip-path=\"url(#p315335fe98)\" d=\"M 306.25 565.389375 \r\nL 324.347297 565.389375 \r\nL 324.347297 540.0847 \r\nL 306.25 540.0847 \r\nz\r\n\" style=\"fill:#81a846;stroke:#ffffff;stroke-linejoin:miter;\"/>\r\n   </g>\r\n   <g id=\"patch_15\">\r\n    <path clip-path=\"url(#p315335fe98)\" d=\"M 328.871622 565.389375 \r\nL 346.968919 565.389375 \r\nL 346.968919 544.337233 \r\nL 328.871622 544.337233 \r\nz\r\n\" style=\"fill:#6bad47;stroke:#ffffff;stroke-linejoin:miter;\"/>\r\n   </g>\r\n   <g id=\"patch_16\">\r\n    <path clip-path=\"url(#p315335fe98)\" d=\"M 351.493243 565.389375 \r\nL 369.590541 565.389375 \r\nL 369.590541 545.137214 \r\nL 351.493243 545.137214 \r\nz\r\n\" style=\"fill:#48b055;stroke:#ffffff;stroke-linejoin:miter;\"/>\r\n   </g>\r\n   <g id=\"patch_17\">\r\n    <path clip-path=\"url(#p315335fe98)\" d=\"M 374.114865 565.389375 \r\nL 392.212162 565.389375 \r\nL 392.212162 532.884867 \r\nL 374.114865 532.884867 \r\nz\r\n\" style=\"fill:#49af75;stroke:#ffffff;stroke-linejoin:miter;\"/>\r\n   </g>\r\n   <g id=\"patch_18\">\r\n    <path clip-path=\"url(#p315335fe98)\" d=\"M 396.736486 565.389375 \r\nL 414.833784 565.389375 \r\nL 414.833784 549.558164 \r\nL 396.736486 549.558164 \r\nz\r\n\" style=\"fill:#49ae85;stroke:#ffffff;stroke-linejoin:miter;\"/>\r\n   </g>\r\n   <g id=\"patch_19\">\r\n    <path clip-path=\"url(#p315335fe98)\" d=\"M 419.358108 565.389375 \r\nL 437.455405 565.389375 \r\nL 437.455405 558.779002 \r\nL 419.358108 558.779002 \r\nz\r\n\" style=\"fill:#4aad91;stroke:#ffffff;stroke-linejoin:miter;\"/>\r\n   </g>\r\n   <g id=\"patch_20\">\r\n    <path clip-path=\"url(#p315335fe98)\" d=\"M 441.97973 565.389375 \r\nL 460.077027 565.389375 \r\nL 460.077027 560.547382 \r\nL 441.97973 560.547382 \r\nz\r\n\" style=\"fill:#4aac99;stroke:#ffffff;stroke-linejoin:miter;\"/>\r\n   </g>\r\n   <g id=\"patch_21\">\r\n    <path clip-path=\"url(#p315335fe98)\" d=\"M 464.601351 565.389375 \r\nL 482.698649 565.389375 \r\nL 482.698649 561.431572 \r\nL 464.601351 561.431572 \r\nz\r\n\" style=\"fill:#4baca1;stroke:#ffffff;stroke-linejoin:miter;\"/>\r\n   </g>\r\n   <g id=\"patch_22\">\r\n    <path clip-path=\"url(#p315335fe98)\" d=\"M 487.222973 565.389375 \r\nL 505.32027 565.389375 \r\nL 505.32027 562.905222 \r\nL 487.222973 562.905222 \r\nz\r\n\" style=\"fill:#4baba8;stroke:#ffffff;stroke-linejoin:miter;\"/>\r\n   </g>\r\n   <g id=\"patch_23\">\r\n    <path clip-path=\"url(#p315335fe98)\" d=\"M 509.844595 565.389375 \r\nL 527.941892 565.389375 \r\nL 527.941892 563.705204 \r\nL 509.844595 563.705204 \r\nz\r\n\" style=\"fill:#4cabaf;stroke:#ffffff;stroke-linejoin:miter;\"/>\r\n   </g>\r\n   <g id=\"patch_24\">\r\n    <path clip-path=\"url(#p315335fe98)\" d=\"M 532.466216 565.389375 \r\nL 550.563514 565.389375 \r\nL 550.563514 563.578891 \r\nL 532.466216 563.578891 \r\nz\r\n\" style=\"fill:#4eabb7;stroke:#ffffff;stroke-linejoin:miter;\"/>\r\n   </g>\r\n   <g id=\"patch_25\">\r\n    <path clip-path=\"url(#p315335fe98)\" d=\"M 555.087838 565.389375 \r\nL 573.185135 565.389375 \r\nL 573.185135 563.578891 \r\nL 555.087838 563.578891 \r\nz\r\n\" style=\"fill:#50acc1;stroke:#ffffff;stroke-linejoin:miter;\"/>\r\n   </g>\r\n   <g id=\"patch_26\">\r\n    <path clip-path=\"url(#p315335fe98)\" d=\"M 577.709459 565.389375 \r\nL 595.806757 565.389375 \r\nL 595.806757 563.999934 \r\nL 577.709459 563.999934 \r\nz\r\n\" style=\"fill:#53accc;stroke:#ffffff;stroke-linejoin:miter;\"/>\r\n   </g>\r\n   <g id=\"patch_27\">\r\n    <path clip-path=\"url(#p315335fe98)\" d=\"M 600.331081 565.389375 \r\nL 618.428378 565.389375 \r\nL 618.428378 564.420976 \r\nL 600.331081 564.420976 \r\nz\r\n\" style=\"fill:#56adda;stroke:#ffffff;stroke-linejoin:miter;\"/>\r\n   </g>\r\n   <g id=\"patch_28\">\r\n    <path clip-path=\"url(#p315335fe98)\" d=\"M 622.952703 565.389375 \r\nL 641.05 565.389375 \r\nL 641.05 564.884124 \r\nL 622.952703 564.884124 \r\nz\r\n\" style=\"fill:#7aaee4;stroke:#ffffff;stroke-linejoin:miter;\"/>\r\n   </g>\r\n   <g id=\"patch_29\">\r\n    <path clip-path=\"url(#p315335fe98)\" d=\"M 645.574324 565.389375 \r\nL 663.671622 565.389375 \r\nL 663.671622 564.884124 \r\nL 645.574324 564.884124 \r\nz\r\n\" style=\"fill:#96ade8;stroke:#ffffff;stroke-linejoin:miter;\"/>\r\n   </g>\r\n   <g id=\"patch_30\">\r\n    <path clip-path=\"url(#p315335fe98)\" d=\"M 668.195946 565.389375 \r\nL 686.293243 565.389375 \r\nL 686.293243 565.094645 \r\nL 668.195946 565.094645 \r\nz\r\n\" style=\"fill:#abaceb;stroke:#ffffff;stroke-linejoin:miter;\"/>\r\n   </g>\r\n   <g id=\"patch_31\">\r\n    <path clip-path=\"url(#p315335fe98)\" d=\"M 690.817568 565.389375 \r\nL 708.914865 565.389375 \r\nL 708.914865 565.305166 \r\nL 690.817568 565.305166 \r\nz\r\n\" style=\"fill:#b9a6eb;stroke:#ffffff;stroke-linejoin:miter;\"/>\r\n   </g>\r\n   <g id=\"patch_32\">\r\n    <path clip-path=\"url(#p315335fe98)\" d=\"M 713.439189 565.389375 \r\nL 731.536486 565.389375 \r\nL 731.536486 565.220958 \r\nL 713.439189 565.220958 \r\nz\r\n\" style=\"fill:#c6a0ea;stroke:#ffffff;stroke-linejoin:miter;\"/>\r\n   </g>\r\n   <g id=\"patch_33\">\r\n    <path clip-path=\"url(#p315335fe98)\" d=\"M 736.060811 565.389375 \r\nL 754.158108 565.389375 \r\nL 754.158108 565.347271 \r\nL 736.060811 565.347271 \r\nz\r\n\" style=\"fill:#d398e8;stroke:#ffffff;stroke-linejoin:miter;\"/>\r\n   </g>\r\n   <g id=\"patch_34\">\r\n    <path clip-path=\"url(#p315335fe98)\" d=\"M 758.682432 565.389375 \r\nL 776.77973 565.389375 \r\nL 776.77973 565.347271 \r\nL 758.682432 565.347271 \r\nz\r\n\" style=\"fill:#e18de7;stroke:#ffffff;stroke-linejoin:miter;\"/>\r\n   </g>\r\n   <g id=\"patch_35\">\r\n    <path clip-path=\"url(#p315335fe98)\" d=\"M 781.304054 565.389375 \r\nL 799.401351 565.389375 \r\nL 799.401351 565.389375 \r\nL 781.304054 565.389375 \r\nz\r\n\" style=\"fill:#e78bdc;stroke:#ffffff;stroke-linejoin:miter;\"/>\r\n   </g>\r\n   <g id=\"patch_36\">\r\n    <path clip-path=\"url(#p315335fe98)\" d=\"M 803.925676 565.389375 \r\nL 822.022973 565.389375 \r\nL 822.022973 565.389375 \r\nL 803.925676 565.389375 \r\nz\r\n\" style=\"fill:#e88ed0;stroke:#ffffff;stroke-linejoin:miter;\"/>\r\n   </g>\r\n   <g id=\"patch_37\">\r\n    <path clip-path=\"url(#p315335fe98)\" d=\"M 826.547297 565.389375 \r\nL 844.644595 565.389375 \r\nL 844.644595 565.389375 \r\nL 826.547297 565.389375 \r\nz\r\n\" style=\"fill:#e890c5;stroke:#ffffff;stroke-linejoin:miter;\"/>\r\n   </g>\r\n   <g id=\"patch_38\">\r\n    <path clip-path=\"url(#p315335fe98)\" d=\"M 849.168919 565.389375 \r\nL 867.266216 565.389375 \r\nL 867.266216 565.389375 \r\nL 849.168919 565.389375 \r\nz\r\n\" style=\"fill:#e992ba;stroke:#ffffff;stroke-linejoin:miter;\"/>\r\n   </g>\r\n   <g id=\"patch_39\">\r\n    <path clip-path=\"url(#p315335fe98)\" d=\"M 871.790541 565.389375 \r\nL 889.887838 565.389375 \r\nL 889.887838 565.389375 \r\nL 871.790541 565.389375 \r\nz\r\n\" style=\"fill:#e994b0;stroke:#ffffff;stroke-linejoin:miter;\"/>\r\n   </g>\r\n   <g id=\"line2d_8\">\r\n    <path clip-path=\"url(#p315335fe98)\" d=\"M 0 0 \r\n\" style=\"fill:none;stroke:#424242;stroke-linecap:round;stroke-width:2.7;\"/>\r\n   </g>\r\n   <g id=\"line2d_9\">\r\n    <path clip-path=\"url(#p315335fe98)\" d=\"M 0 0 \r\n\" style=\"fill:none;stroke:#424242;stroke-linecap:round;stroke-width:2.7;\"/>\r\n   </g>\r\n   <g id=\"line2d_10\">\r\n    <path clip-path=\"url(#p315335fe98)\" d=\"M 0 0 \r\n\" style=\"fill:none;stroke:#424242;stroke-linecap:round;stroke-width:2.7;\"/>\r\n   </g>\r\n   <g id=\"line2d_11\">\r\n    <path clip-path=\"url(#p315335fe98)\" d=\"M 0 0 \r\n\" style=\"fill:none;stroke:#424242;stroke-linecap:round;stroke-width:2.7;\"/>\r\n   </g>\r\n   <g id=\"line2d_12\">\r\n    <path clip-path=\"url(#p315335fe98)\" d=\"M 0 0 \r\n\" style=\"fill:none;stroke:#424242;stroke-linecap:round;stroke-width:2.7;\"/>\r\n   </g>\r\n   <g id=\"line2d_13\">\r\n    <path clip-path=\"url(#p315335fe98)\" d=\"M 0 0 \r\n\" style=\"fill:none;stroke:#424242;stroke-linecap:round;stroke-width:2.7;\"/>\r\n   </g>\r\n   <g id=\"line2d_14\">\r\n    <path clip-path=\"url(#p315335fe98)\" d=\"M 0 0 \r\n\" style=\"fill:none;stroke:#424242;stroke-linecap:round;stroke-width:2.7;\"/>\r\n   </g>\r\n   <g id=\"line2d_15\">\r\n    <path clip-path=\"url(#p315335fe98)\" d=\"M 0 0 \r\n\" style=\"fill:none;stroke:#424242;stroke-linecap:round;stroke-width:2.7;\"/>\r\n   </g>\r\n   <g id=\"line2d_16\">\r\n    <path clip-path=\"url(#p315335fe98)\" d=\"M 0 0 \r\n\" style=\"fill:none;stroke:#424242;stroke-linecap:round;stroke-width:2.7;\"/>\r\n   </g>\r\n   <g id=\"line2d_17\">\r\n    <path clip-path=\"url(#p315335fe98)\" d=\"M 0 0 \r\n\" style=\"fill:none;stroke:#424242;stroke-linecap:round;stroke-width:2.7;\"/>\r\n   </g>\r\n   <g id=\"line2d_18\">\r\n    <path clip-path=\"url(#p315335fe98)\" d=\"M 0 0 \r\n\" style=\"fill:none;stroke:#424242;stroke-linecap:round;stroke-width:2.7;\"/>\r\n   </g>\r\n   <g id=\"line2d_19\">\r\n    <path clip-path=\"url(#p315335fe98)\" d=\"M 0 0 \r\n\" style=\"fill:none;stroke:#424242;stroke-linecap:round;stroke-width:2.7;\"/>\r\n   </g>\r\n   <g id=\"line2d_20\">\r\n    <path clip-path=\"url(#p315335fe98)\" d=\"M 0 0 \r\n\" style=\"fill:none;stroke:#424242;stroke-linecap:round;stroke-width:2.7;\"/>\r\n   </g>\r\n   <g id=\"line2d_21\">\r\n    <path clip-path=\"url(#p315335fe98)\" d=\"M 0 0 \r\n\" style=\"fill:none;stroke:#424242;stroke-linecap:round;stroke-width:2.7;\"/>\r\n   </g>\r\n   <g id=\"line2d_22\">\r\n    <path clip-path=\"url(#p315335fe98)\" d=\"M 0 0 \r\n\" style=\"fill:none;stroke:#424242;stroke-linecap:round;stroke-width:2.7;\"/>\r\n   </g>\r\n   <g id=\"line2d_23\">\r\n    <path clip-path=\"url(#p315335fe98)\" d=\"M 0 0 \r\n\" style=\"fill:none;stroke:#424242;stroke-linecap:round;stroke-width:2.7;\"/>\r\n   </g>\r\n   <g id=\"line2d_24\">\r\n    <path clip-path=\"url(#p315335fe98)\" d=\"M 0 0 \r\n\" style=\"fill:none;stroke:#424242;stroke-linecap:round;stroke-width:2.7;\"/>\r\n   </g>\r\n   <g id=\"line2d_25\">\r\n    <path clip-path=\"url(#p315335fe98)\" d=\"M 0 0 \r\n\" style=\"fill:none;stroke:#424242;stroke-linecap:round;stroke-width:2.7;\"/>\r\n   </g>\r\n   <g id=\"line2d_26\">\r\n    <path clip-path=\"url(#p315335fe98)\" d=\"M 0 0 \r\n\" style=\"fill:none;stroke:#424242;stroke-linecap:round;stroke-width:2.7;\"/>\r\n   </g>\r\n   <g id=\"line2d_27\">\r\n    <path clip-path=\"url(#p315335fe98)\" d=\"M 0 0 \r\n\" style=\"fill:none;stroke:#424242;stroke-linecap:round;stroke-width:2.7;\"/>\r\n   </g>\r\n   <g id=\"line2d_28\">\r\n    <path clip-path=\"url(#p315335fe98)\" d=\"M 0 0 \r\n\" style=\"fill:none;stroke:#424242;stroke-linecap:round;stroke-width:2.7;\"/>\r\n   </g>\r\n   <g id=\"line2d_29\">\r\n    <path clip-path=\"url(#p315335fe98)\" d=\"M 0 0 \r\n\" style=\"fill:none;stroke:#424242;stroke-linecap:round;stroke-width:2.7;\"/>\r\n   </g>\r\n   <g id=\"line2d_30\">\r\n    <path clip-path=\"url(#p315335fe98)\" d=\"M 0 0 \r\n\" style=\"fill:none;stroke:#424242;stroke-linecap:round;stroke-width:2.7;\"/>\r\n   </g>\r\n   <g id=\"line2d_31\">\r\n    <path clip-path=\"url(#p315335fe98)\" d=\"M 0 0 \r\n\" style=\"fill:none;stroke:#424242;stroke-linecap:round;stroke-width:2.7;\"/>\r\n   </g>\r\n   <g id=\"line2d_32\">\r\n    <path clip-path=\"url(#p315335fe98)\" d=\"M 0 0 \r\n\" style=\"fill:none;stroke:#424242;stroke-linecap:round;stroke-width:2.7;\"/>\r\n   </g>\r\n   <g id=\"line2d_33\">\r\n    <path clip-path=\"url(#p315335fe98)\" d=\"M 0 0 \r\n\" style=\"fill:none;stroke:#424242;stroke-linecap:round;stroke-width:2.7;\"/>\r\n   </g>\r\n   <g id=\"line2d_34\">\r\n    <path clip-path=\"url(#p315335fe98)\" d=\"M 0 0 \r\n\" style=\"fill:none;stroke:#424242;stroke-linecap:round;stroke-width:2.7;\"/>\r\n   </g>\r\n   <g id=\"line2d_35\">\r\n    <path clip-path=\"url(#p315335fe98)\" d=\"M 0 0 \r\n\" style=\"fill:none;stroke:#424242;stroke-linecap:round;stroke-width:2.7;\"/>\r\n   </g>\r\n   <g id=\"line2d_36\">\r\n    <path clip-path=\"url(#p315335fe98)\" d=\"M 0 0 \r\n\" style=\"fill:none;stroke:#424242;stroke-linecap:round;stroke-width:2.7;\"/>\r\n   </g>\r\n   <g id=\"line2d_37\">\r\n    <path clip-path=\"url(#p315335fe98)\" d=\"M 0 0 \r\n\" style=\"fill:none;stroke:#424242;stroke-linecap:round;stroke-width:2.7;\"/>\r\n   </g>\r\n   <g id=\"line2d_38\">\r\n    <path clip-path=\"url(#p315335fe98)\" d=\"M 0 0 \r\n\" style=\"fill:none;stroke:#424242;stroke-linecap:round;stroke-width:2.7;\"/>\r\n   </g>\r\n   <g id=\"line2d_39\">\r\n    <path clip-path=\"url(#p315335fe98)\" d=\"M 0 0 \r\n\" style=\"fill:none;stroke:#424242;stroke-linecap:round;stroke-width:2.7;\"/>\r\n   </g>\r\n   <g id=\"line2d_40\">\r\n    <path clip-path=\"url(#p315335fe98)\" d=\"M 0 0 \r\n\" style=\"fill:none;stroke:#424242;stroke-linecap:round;stroke-width:2.7;\"/>\r\n   </g>\r\n   <g id=\"line2d_41\">\r\n    <path clip-path=\"url(#p315335fe98)\" d=\"M 0 0 \r\n\" style=\"fill:none;stroke:#424242;stroke-linecap:round;stroke-width:2.7;\"/>\r\n   </g>\r\n   <g id=\"line2d_42\">\r\n    <path clip-path=\"url(#p315335fe98)\" d=\"M 0 0 \r\n\" style=\"fill:none;stroke:#424242;stroke-linecap:round;stroke-width:2.7;\"/>\r\n   </g>\r\n   <g id=\"line2d_43\">\r\n    <path clip-path=\"url(#p315335fe98)\" d=\"M 0 0 \r\n\" style=\"fill:none;stroke:#424242;stroke-linecap:round;stroke-width:2.7;\"/>\r\n   </g>\r\n   <g id=\"line2d_44\">\r\n    <path clip-path=\"url(#p315335fe98)\" d=\"M 0 0 \r\n\" style=\"fill:none;stroke:#424242;stroke-linecap:round;stroke-width:2.7;\"/>\r\n   </g>\r\n   <g id=\"patch_40\">\r\n    <path d=\"M 55.15 565.389375 \r\nL 55.15 21.789375 \r\n\" style=\"fill:none;stroke:#ffffff;stroke-linecap:square;stroke-linejoin:miter;stroke-width:0.8;\"/>\r\n   </g>\r\n   <g id=\"patch_41\">\r\n    <path d=\"M 892.15 565.389375 \r\nL 892.15 21.789375 \r\n\" style=\"fill:none;stroke:#ffffff;stroke-linecap:square;stroke-linejoin:miter;stroke-width:0.8;\"/>\r\n   </g>\r\n   <g id=\"patch_42\">\r\n    <path d=\"M 55.15 565.389375 \r\nL 892.15 565.389375 \r\n\" style=\"fill:none;stroke:#ffffff;stroke-linecap:square;stroke-linejoin:miter;stroke-width:0.8;\"/>\r\n   </g>\r\n   <g id=\"patch_43\">\r\n    <path d=\"M 55.15 21.789375 \r\nL 892.15 21.789375 \r\n\" style=\"fill:none;stroke:#ffffff;stroke-linecap:square;stroke-linejoin:miter;stroke-width:0.8;\"/>\r\n   </g>\r\n   <g id=\"text_47\">\r\n    <!-- Confirmed Cases in India Statewise -->\r\n    <g style=\"fill:#262626;\" transform=\"translate(378.61 15.789375)scale(0.12 -0.12)\">\r\n     <use xlink:href=\"#ArialMT-67\"/>\r\n     <use x=\"72.216797\" xlink:href=\"#ArialMT-111\"/>\r\n     <use x=\"127.832031\" xlink:href=\"#ArialMT-110\"/>\r\n     <use x=\"183.447266\" xlink:href=\"#ArialMT-102\"/>\r\n     <use x=\"211.230469\" xlink:href=\"#ArialMT-105\"/>\r\n     <use x=\"233.447266\" xlink:href=\"#ArialMT-114\"/>\r\n     <use x=\"266.748047\" xlink:href=\"#ArialMT-109\"/>\r\n     <use x=\"350.048828\" xlink:href=\"#ArialMT-101\"/>\r\n     <use x=\"405.664062\" xlink:href=\"#ArialMT-100\"/>\r\n     <use x=\"461.279297\" xlink:href=\"#ArialMT-32\"/>\r\n     <use x=\"489.0625\" xlink:href=\"#ArialMT-67\"/>\r\n     <use x=\"561.279297\" xlink:href=\"#ArialMT-97\"/>\r\n     <use x=\"616.894531\" xlink:href=\"#ArialMT-115\"/>\r\n     <use x=\"666.894531\" xlink:href=\"#ArialMT-101\"/>\r\n     <use x=\"722.509766\" xlink:href=\"#ArialMT-115\"/>\r\n     <use x=\"772.509766\" xlink:href=\"#ArialMT-32\"/>\r\n     <use x=\"800.292969\" xlink:href=\"#ArialMT-105\"/>\r\n     <use x=\"822.509766\" xlink:href=\"#ArialMT-110\"/>\r\n     <use x=\"878.125\" xlink:href=\"#ArialMT-32\"/>\r\n     <use x=\"905.908203\" xlink:href=\"#ArialMT-73\"/>\r\n     <use x=\"933.691406\" xlink:href=\"#ArialMT-110\"/>\r\n     <use x=\"989.306641\" xlink:href=\"#ArialMT-100\"/>\r\n     <use x=\"1044.921875\" xlink:href=\"#ArialMT-105\"/>\r\n     <use x=\"1067.138672\" xlink:href=\"#ArialMT-97\"/>\r\n     <use x=\"1122.753906\" xlink:href=\"#ArialMT-32\"/>\r\n     <use x=\"1150.537109\" xlink:href=\"#ArialMT-83\"/>\r\n     <use x=\"1217.236328\" xlink:href=\"#ArialMT-116\"/>\r\n     <use x=\"1245.019531\" xlink:href=\"#ArialMT-97\"/>\r\n     <use x=\"1300.634766\" xlink:href=\"#ArialMT-116\"/>\r\n     <use x=\"1328.417969\" xlink:href=\"#ArialMT-101\"/>\r\n     <use x=\"1384.033203\" xlink:href=\"#ArialMT-119\"/>\r\n     <use x=\"1456.25\" xlink:href=\"#ArialMT-105\"/>\r\n     <use x=\"1478.466797\" xlink:href=\"#ArialMT-115\"/>\r\n     <use x=\"1528.466797\" xlink:href=\"#ArialMT-101\"/>\r\n    </g>\r\n   </g>\r\n  </g>\r\n </g>\r\n <defs>\r\n  <clipPath id=\"p315335fe98\">\r\n   <rect height=\"543.6\" width=\"837\" x=\"55.15\" y=\"21.789375\"/>\r\n  </clipPath>\r\n </defs>\r\n</svg>\r\n",
      "image/png": "[encoded data removed]"
     },
     "metadata": {}
    }
   ],
   "source": [
    "sns.set_style('darkgrid') \n",
    "plt.figure(figsize=(15,10)) \n",
    "sns.barplot(x = dfind.index, y = dfind['confirmed']) \n",
    "plt.title('Confirmed Cases in India Statewise') \n",
    "plt.xticks(rotation = 90) \n",
    "plt.show()"
   ]
  },
  {
   "cell_type": "markdown",
   "metadata": {},
   "source": [
    "Using Plotly:"
   ]
  },
  {
   "cell_type": "code",
   "execution_count": 9,
   "metadata": {},
   "outputs": [
    {
     "output_type": "display_data",
     "data": {
      "application/vnd.plotly.v1+json": {
       "config": {
        "plotlyServerURL": "https://plot.ly"
       },
       "data": [
        {
         "alignmentgroup": "True",
         "hovertemplate": "x=%{x}<br>confirmed=%{marker.color}<extra></extra>",
         "legendgroup": "",
         "marker": {
          "color": [
           12296,
           5054,
           4122,
           2788,
           2772,
           2757,
           2487,
           1525,
           1061,
           795,
           666,
           601,
           500,
           481,
           772,
           376,
           157,
           115,
           94,
           59,
           40,
           43,
           43,
           33,
           23,
           12,
           12,
           7,
           2,
           4,
           1,
           1,
           0,
           0,
           0,
           0,
           0
          ],
          "coloraxis": "coloraxis"
         },
         "name": "",
         "offsetgroup": "",
         "orientation": "v",
         "showlegend": false,
         "textposition": "auto",
         "type": "bar",
         "x": [
          "Maharashtra",
          "Gujarat",
          "Delhi",
          "Madhya Pradesh",
          "Rajasthan",
          "Tamil Nadu",
          "Uttar Pradesh",
          "Andhra Pradesh",
          "Telangana",
          "West Bengal",
          "Jammu and Kashmir",
          "Karnataka",
          "Kerala",
          "Bihar",
          "Punjab",
          "Haryana",
          "Odisha",
          "Jharkhand",
          "Chandigarh",
          "Uttarakhand",
          "Himachal Pradesh",
          "Assam",
          "Chhattisgarh",
          "Andaman and Nicobar Islands",
          "Ladakh",
          "Meghalaya",
          "Puducherry",
          "Goa",
          "Manipur",
          "Tripura",
          "Mizoram",
          "Arunachal Pradesh",
          "Nagaland",
          "Dadra and Nagar Haveli",
          "Daman and Diu",
          "Lakshadweep",
          "Sikkim"
         ],
         "xaxis": "x",
         "y": [
          12296,
          5054,
          4122,
          2788,
          2772,
          2757,
          2487,
          1525,
          1061,
          795,
          666,
          601,
          500,
          481,
          772,
          376,
          157,
          115,
          94,
          59,
          40,
          43,
          43,
          33,
          23,
          12,
          12,
          7,
          2,
          4,
          1,
          1,
          0,
          0,
          0,
          0,
          0
         ],
         "yaxis": "y"
        }
       ],
       "layout": {
        "barmode": "relative",
        "coloraxis": {
         "colorbar": {
          "title": {
           "text": "confirmed"
          }
         },
         "colorscale": [
          [
           0,
           "#0d0887"
          ],
          [
           0.1111111111111111,
           "#46039f"
          ],
          [
           0.2222222222222222,
           "#7201a8"
          ],
          [
           0.3333333333333333,
           "#9c179e"
          ],
          [
           0.4444444444444444,
           "#bd3786"
          ],
          [
           0.5555555555555556,
           "#d8576b"
          ],
          [
           0.6666666666666666,
           "#ed7953"
          ],
          [
           0.7777777777777778,
           "#fb9f3a"
          ],
          [
           0.8888888888888888,
           "#fdca26"
          ],
          [
           1,
           "#f0f921"
          ]
         ]
        },
        "height": 800,
        "legend": {
         "tracegroupgap": 0
        },
        "margin": {
         "t": 60
        },
        "template": {
         "data": {
          "bar": [
           {
            "error_x": {
             "color": "#2a3f5f"
            },
            "error_y": {
             "color": "#2a3f5f"
            },
            "marker": {
             "line": {
              "color": "#E5ECF6",
              "width": 0.5
             }
            },
            "type": "bar"
           }
          ],
          "barpolar": [
           {
            "marker": {
             "line": {
              "color": "#E5ECF6",
              "width": 0.5
             }
            },
            "type": "barpolar"
           }
          ],
          "carpet": [
           {
            "aaxis": {
             "endlinecolor": "#2a3f5f",
             "gridcolor": "white",
             "linecolor": "white",
             "minorgridcolor": "white",
             "startlinecolor": "#2a3f5f"
            },
            "baxis": {
             "endlinecolor": "#2a3f5f",
             "gridcolor": "white",
             "linecolor": "white",
             "minorgridcolor": "white",
             "startlinecolor": "#2a3f5f"
            },
            "type": "carpet"
           }
          ],
          "choropleth": [
           {
            "colorbar": {
             "outlinewidth": 0,
             "ticks": ""
            },
            "type": "choropleth"
           }
          ],
          "contour": [
           {
            "colorbar": {
             "outlinewidth": 0,
             "ticks": ""
            },
            "colorscale": [
             [
              0,
              "#0d0887"
             ],
             [
              0.1111111111111111,
              "#46039f"
             ],
             [
              0.2222222222222222,
              "#7201a8"
             ],
             [
              0.3333333333333333,
              "#9c179e"
             ],
             [
              0.4444444444444444,
              "#bd3786"
             ],
             [
              0.5555555555555556,
              "#d8576b"
             ],
             [
              0.6666666666666666,
              "#ed7953"
             ],
             [
              0.7777777777777778,
              "#fb9f3a"
             ],
             [
              0.8888888888888888,
              "#fdca26"
             ],
             [
              1,
              "#f0f921"
             ]
            ],
            "type": "contour"
           }
          ],
          "contourcarpet": [
           {
            "colorbar": {
             "outlinewidth": 0,
             "ticks": ""
            },
            "type": "contourcarpet"
           }
          ],
          "heatmap": [
           {
            "colorbar": {
             "outlinewidth": 0,
             "ticks": ""
            },
            "colorscale": [
             [
              0,
              "#0d0887"
             ],
             [
              0.1111111111111111,
              "#46039f"
             ],
             [
              0.2222222222222222,
              "#7201a8"
             ],
             [
              0.3333333333333333,
              "#9c179e"
             ],
             [
              0.4444444444444444,
              "#bd3786"
             ],
             [
              0.5555555555555556,
              "#d8576b"
             ],
             [
              0.6666666666666666,
              "#ed7953"
             ],
             [
              0.7777777777777778,
              "#fb9f3a"
             ],
             [
              0.8888888888888888,
              "#fdca26"
             ],
             [
              1,
              "#f0f921"
             ]
            ],
            "type": "heatmap"
           }
          ],
          "heatmapgl": [
           {
            "colorbar": {
             "outlinewidth": 0,
             "ticks": ""
            },
            "colorscale": [
             [
              0,
              "#0d0887"
             ],
             [
              0.1111111111111111,
              "#46039f"
             ],
             [
              0.2222222222222222,
              "#7201a8"
             ],
             [
              0.3333333333333333,
              "#9c179e"
             ],
             [
              0.4444444444444444,
              "#bd3786"
             ],
             [
              0.5555555555555556,
              "#d8576b"
             ],
             [
              0.6666666666666666,
              "#ed7953"
             ],
             [
              0.7777777777777778,
              "#fb9f3a"
             ],
             [
              0.8888888888888888,
              "#fdca26"
             ],
             [
              1,
              "#f0f921"
             ]
            ],
            "type": "heatmapgl"
           }
          ],
          "histogram": [
           {
            "marker": {
             "colorbar": {
              "outlinewidth": 0,
              "ticks": ""
             }
            },
            "type": "histogram"
           }
          ],
          "histogram2d": [
           {
            "colorbar": {
             "outlinewidth": 0,
             "ticks": ""
            },
            "colorscale": [
             [
              0,
              "#0d0887"
             ],
             [
              0.1111111111111111,
              "#46039f"
             ],
             [
              0.2222222222222222,
              "#7201a8"
             ],
             [
              0.3333333333333333,
              "#9c179e"
             ],
             [
              0.4444444444444444,
              "#bd3786"
             ],
             [
              0.5555555555555556,
              "#d8576b"
             ],
             [
              0.6666666666666666,
              "#ed7953"
             ],
             [
              0.7777777777777778,
              "#fb9f3a"
             ],
             [
              0.8888888888888888,
              "#fdca26"
             ],
             [
              1,
              "#f0f921"
             ]
            ],
            "type": "histogram2d"
           }
          ],
          "histogram2dcontour": [
           {
            "colorbar": {
             "outlinewidth": 0,
             "ticks": ""
            },
            "colorscale": [
             [
              0,
              "#0d0887"
             ],
             [
              0.1111111111111111,
              "#46039f"
             ],
             [
              0.2222222222222222,
              "#7201a8"
             ],
             [
              0.3333333333333333,
              "#9c179e"
             ],
             [
              0.4444444444444444,
              "#bd3786"
             ],
             [
              0.5555555555555556,
              "#d8576b"
             ],
             [
              0.6666666666666666,
              "#ed7953"
             ],
             [
              0.7777777777777778,
              "#fb9f3a"
             ],
             [
              0.8888888888888888,
              "#fdca26"
             ],
             [
              1,
              "#f0f921"
             ]
            ],
            "type": "histogram2dcontour"
           }
          ],
          "mesh3d": [
           {
            "colorbar": {
             "outlinewidth": 0,
             "ticks": ""
            },
            "type": "mesh3d"
           }
          ],
          "parcoords": [
           {
            "line": {
             "colorbar": {
              "outlinewidth": 0,
              "ticks": ""
             }
            },
            "type": "parcoords"
           }
          ],
          "pie": [
           {
            "automargin": true,
            "type": "pie"
           }
          ],
          "scatter": [
           {
            "marker": {
             "colorbar": {
              "outlinewidth": 0,
              "ticks": ""
             }
            },
            "type": "scatter"
           }
          ],
          "scatter3d": [
           {
            "line": {
             "colorbar": {
              "outlinewidth": 0,
              "ticks": ""
             }
            },
            "marker": {
             "colorbar": {
              "outlinewidth": 0,
              "ticks": ""
             }
            },
            "type": "scatter3d"
           }
          ],
          "scattercarpet": [
           {
            "marker": {
             "colorbar": {
              "outlinewidth": 0,
              "ticks": ""
             }
            },
            "type": "scattercarpet"
           }
          ],
          "scattergeo": [
           {
            "marker": {
             "colorbar": {
              "outlinewidth": 0,
              "ticks": ""
             }
            },
            "type": "scattergeo"
           }
          ],
          "scattergl": [
           {
            "marker": {
             "colorbar": {
              "outlinewidth": 0,
              "ticks": ""
             }
            },
            "type": "scattergl"
           }
          ],
          "scattermapbox": [
           {
            "marker": {
             "colorbar": {
              "outlinewidth": 0,
              "ticks": ""
             }
            },
            "type": "scattermapbox"
           }
          ],
          "scatterpolar": [
           {
            "marker": {
             "colorbar": {
              "outlinewidth": 0,
              "ticks": ""
             }
            },
            "type": "scatterpolar"
           }
          ],
          "scatterpolargl": [
           {
            "marker": {
             "colorbar": {
              "outlinewidth": 0,
              "ticks": ""
             }
            },
            "type": "scatterpolargl"
           }
          ],
          "scatterternary": [
           {
            "marker": {
             "colorbar": {
              "outlinewidth": 0,
              "ticks": ""
             }
            },
            "type": "scatterternary"
           }
          ],
          "surface": [
           {
            "colorbar": {
             "outlinewidth": 0,
             "ticks": ""
            },
            "colorscale": [
             [
              0,
              "#0d0887"
             ],
             [
              0.1111111111111111,
              "#46039f"
             ],
             [
              0.2222222222222222,
              "#7201a8"
             ],
             [
              0.3333333333333333,
              "#9c179e"
             ],
             [
              0.4444444444444444,
              "#bd3786"
             ],
             [
              0.5555555555555556,
              "#d8576b"
             ],
             [
              0.6666666666666666,
              "#ed7953"
             ],
             [
              0.7777777777777778,
              "#fb9f3a"
             ],
             [
              0.8888888888888888,
              "#fdca26"
             ],
             [
              1,
              "#f0f921"
             ]
            ],
            "type": "surface"
           }
          ],
          "table": [
           {
            "cells": {
             "fill": {
              "color": "#EBF0F8"
             },
             "line": {
              "color": "white"
             }
            },
            "header": {
             "fill": {
              "color": "#C8D4E3"
             },
             "line": {
              "color": "white"
             }
            },
            "type": "table"
           }
          ]
         },
         "layout": {
          "annotationdefaults": {
           "arrowcolor": "#2a3f5f",
           "arrowhead": 0,
           "arrowwidth": 1
          },
          "coloraxis": {
           "colorbar": {
            "outlinewidth": 0,
            "ticks": ""
           }
          },
          "colorscale": {
           "diverging": [
            [
             0,
             "#8e0152"
            ],
            [
             0.1,
             "#c51b7d"
            ],
            [
             0.2,
             "#de77ae"
            ],
            [
             0.3,
             "#f1b6da"
            ],
            [
             0.4,
             "#fde0ef"
            ],
            [
             0.5,
             "#f7f7f7"
            ],
            [
             0.6,
             "#e6f5d0"
            ],
            [
             0.7,
             "#b8e186"
            ],
            [
             0.8,
             "#7fbc41"
            ],
            [
             0.9,
             "#4d9221"
            ],
            [
             1,
             "#276419"
            ]
           ],
           "sequential": [
            [
             0,
             "#0d0887"
            ],
            [
             0.1111111111111111,
             "#46039f"
            ],
            [
             0.2222222222222222,
             "#7201a8"
            ],
            [
             0.3333333333333333,
             "#9c179e"
            ],
            [
             0.4444444444444444,
             "#bd3786"
            ],
            [
             0.5555555555555556,
             "#d8576b"
            ],
            [
             0.6666666666666666,
             "#ed7953"
            ],
            [
             0.7777777777777778,
             "#fb9f3a"
            ],
            [
             0.8888888888888888,
             "#fdca26"
            ],
            [
             1,
             "#f0f921"
            ]
           ],
           "sequentialminus": [
            [
             0,
             "#0d0887"
            ],
            [
             0.1111111111111111,
             "#46039f"
            ],
            [
             0.2222222222222222,
             "#7201a8"
            ],
            [
             0.3333333333333333,
             "#9c179e"
            ],
            [
             0.4444444444444444,
             "#bd3786"
            ],
            [
             0.5555555555555556,
             "#d8576b"
            ],
            [
             0.6666666666666666,
             "#ed7953"
            ],
            [
             0.7777777777777778,
             "#fb9f3a"
            ],
            [
             0.8888888888888888,
             "#fdca26"
            ],
            [
             1,
             "#f0f921"
            ]
           ]
          },
          "colorway": [
           "#636efa",
           "#EF553B",
           "#00cc96",
           "#ab63fa",
           "#FFA15A",
           "#19d3f3",
           "#FF6692",
           "#B6E880",
           "#FF97FF",
           "#FECB52"
          ],
          "font": {
           "color": "#2a3f5f"
          },
          "geo": {
           "bgcolor": "white",
           "lakecolor": "white",
           "landcolor": "#E5ECF6",
           "showlakes": true,
           "showland": true,
           "subunitcolor": "white"
          },
          "hoverlabel": {
           "align": "left"
          },
          "hovermode": "closest",
          "mapbox": {
           "style": "light"
          },
          "paper_bgcolor": "white",
          "plot_bgcolor": "#E5ECF6",
          "polar": {
           "angularaxis": {
            "gridcolor": "white",
            "linecolor": "white",
            "ticks": ""
           },
           "bgcolor": "#E5ECF6",
           "radialaxis": {
            "gridcolor": "white",
            "linecolor": "white",
            "ticks": ""
           }
          },
          "scene": {
           "xaxis": {
            "backgroundcolor": "#E5ECF6",
            "gridcolor": "white",
            "gridwidth": 2,
            "linecolor": "white",
            "showbackground": true,
            "ticks": "",
            "zerolinecolor": "white"
           },
           "yaxis": {
            "backgroundcolor": "#E5ECF6",
            "gridcolor": "white",
            "gridwidth": 2,
            "linecolor": "white",
            "showbackground": true,
            "ticks": "",
            "zerolinecolor": "white"
           },
           "zaxis": {
            "backgroundcolor": "#E5ECF6",
            "gridcolor": "white",
            "gridwidth": 2,
            "linecolor": "white",
            "showbackground": true,
            "ticks": "",
            "zerolinecolor": "white"
           }
          },
          "shapedefaults": {
           "line": {
            "color": "#2a3f5f"
           }
          },
          "ternary": {
           "aaxis": {
            "gridcolor": "white",
            "linecolor": "white",
            "ticks": ""
           },
           "baxis": {
            "gridcolor": "white",
            "linecolor": "white",
            "ticks": ""
           },
           "bgcolor": "#E5ECF6",
           "caxis": {
            "gridcolor": "white",
            "linecolor": "white",
            "ticks": ""
           }
          },
          "title": {
           "x": 0.05
          },
          "xaxis": {
           "automargin": true,
           "gridcolor": "white",
           "linecolor": "white",
           "ticks": "",
           "title": {
            "standoff": 15
           },
           "zerolinecolor": "white",
           "zerolinewidth": 2
          },
          "yaxis": {
           "automargin": true,
           "gridcolor": "white",
           "linecolor": "white",
           "ticks": "",
           "title": {
            "standoff": 15
           },
           "zerolinecolor": "white",
           "zerolinewidth": 2
          }
         }
        },
        "width": 1000,
        "xaxis": {
         "anchor": "y",
         "domain": [
          0,
          1
         ],
         "title": {
          "text": "x"
         }
        },
        "yaxis": {
         "anchor": "x",
         "domain": [
          0,
          1
         ],
         "title": {
          "text": "confirmed"
         }
        }
       }
      }
     },
     "metadata": {}
    }
   ],
   "source": [
    "import plotly.express as px\n",
    "figure = px.bar(dfind, x = dfind.index, height = 800, width = 1000, y = 'confirmed', color='confirmed') \n",
    "figure.show()"
   ]
  },
  {
   "cell_type": "code",
   "execution_count": 10,
   "metadata": {},
   "outputs": [],
   "source": [
    "location = { \"Sikkim\": [27.5330,88.5122], \n",
    "            \"Maharashtra\" : [19.7515,75.7139], \n",
    "            \"West Bengal\": [22.9868,87.8550], \n",
    "            \"Chandigarh\":[30.7333,76.7794], \n",
    "            \"Karnataka\": [15.3173,75.7139], \n",
    "            \"Telangana\": [18.1124,79.0193], \n",
    "            \"Uttar Pradesh\": [26.8467,80.9462], \n",
    "            \"Gujarat\":[22.2587,71.1924], \n",
    "            \"Odisha\":[20.9517,85.0985], \n",
    "            \"Delhi\" : [28.7041,77.1025],\n",
    "            \"Tamil Nadu\": [11.1271,78.6569], \n",
    "            \"Haryana\": [29.0588,76.0856], \n",
    "            \"Madhya Pradesh\":[22.9734,78.6569], \n",
    "            \"Kerala\" : [10.8505,76.2711], \n",
    "            \"Rajasthan\": [27.0238,74.2179], \n",
    "            \"Jammu and Kashmir\":[33.7782,76.5762], \n",
    "            \"Ladakh\": [34.1526,77.5770], \n",
    "            \"Andhra Pradesh\":[15.9129,79.7400], \n",
    "            \"Bihar\": [25.0961,85.3131], \n",
    "            \"Chhattisgarh\":[21.2787,81.8661], \n",
    "            \"Uttarakhand\":[30.0668,79.0193],\n",
    "            \"Himachal Pradesh\":[31.1048,77.1734], \n",
    "            \"Goa\": [15.2993,74.1240], \n",
    "            \"Tripura\":[23.9408,91.9882], \n",
    "            \"Andaman and Nicobar Islands\": [11.7401,92.6586], \n",
    "            \"Puducherry\":[11.9416,79.8083], \n",
    "            \"Manipur\":[24.6637,93.9063], \n",
    "            \"Mizoram\":[23.1645,92.9376], \n",
    "            \"Assam\":[26.2006,92.9376], \n",
    "            \"Meghalaya\":[25.4670,91.3662], \n",
    "            \"Arunachal Pradesh\":[28.2180,94.7278],\n",
    "            \"Jharkhand\" : [23.6102,85.2799], \n",
    "            \"Nagaland\": [26.1584,94.5624], \n",
    "            \"Punjab\":[31.1471,75.3412], \n",
    "            \"Dadra and Nagar Haveli\":[20.1809,73.0169], \n",
    "            \"Lakshadweep\":[10.5667,72.6417], \n",
    "            \"Daman and Diu\":[20.4283,72.8397] }"
   ]
  },
  {
   "cell_type": "code",
   "execution_count": 11,
   "metadata": {},
   "outputs": [],
   "source": [
    "dfind ['Lat'] = \"\" \n",
    "dfind ['Long'] = \"\" \n",
    "for index in dfind.index: \n",
    "    dfind.loc[dfind.index == index, \"Lat\"] = location [index][0] \n",
    "    dfind.loc[dfind.index == index, \"Long\"] = location [index][1]"
   ]
  },
  {
   "cell_type": "code",
   "execution_count": 12,
   "metadata": {},
   "outputs": [],
   "source": [
    "import folium \n",
    "imap = folium.Map(location= [20, 80], zoom_start=4.5, max_zoom=8, height=1000, width='100%', tiles='CartoDB dark_matter') \n",
    "for i in range(0, len(dfind)): \n",
    "    folium.Circle(location= [dfind.iloc[i]['Lat'], dfind.iloc[i]['Long']], \n",
    "                  radius=(int(np.log2(dfind.iloc[i]['confirmed']+1.00001)))*13000, \n",
    "                  tooltip= \"<h5 style='text-align:center;font-weight: bold'>\"+ dfind.iloc[i].name +\"</h5>\"+ \"<li>Confirmed \"+str(dfind.iloc[i]['confirmed'])+\"</li>\"+ \"<li>Deaths \"+str(dfind.iloc[i]['deaths'])+\"</li>\"+ \"<li>Active \"+str(dfind.iloc[i]['active'])+\"</li>\"+ \"</ul>\", \n",
    "                  color = 'red', fill = True).add_to(imap)"
   ]
  },
  {
   "cell_type": "code",
   "execution_count": 13,
   "metadata": {},
   "outputs": [
    {
     "output_type": "execute_result",
     "data": {
      "text/plain": "<folium.folium.Map at 0x1fdd4c65700>",
      "text/html": "<div style=\"width:100%;\"><div style=\"position:relative;width:100%;height:0;padding-bottom:60%;\"><span style=\"color:#565656\">Make this Notebook Trusted to load map: File -> Trust Notebook</span><iframe src=\"about:blank\" style=\"position:absolute;width:100%;height:100%;left:0;top:0;border:none !important;\" data-html=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 onload=\"this.contentDocument.open();this.contentDocument.write(atob(this.getAttribute('data-html')));this.contentDocument.close();\" allowfullscreen webkitallowfullscreen mozallowfullscreen></iframe></div></div>"
     },
     "metadata": {},
     "execution_count": 13
    }
   ],
   "source": [
    "imap"
   ]
  },
  {
   "cell_type": "code",
   "execution_count": null,
   "metadata": {},
   "outputs": [],
   "source": []
  }
 ],
 "metadata": {
  "kernelspec": {
   "display_name": "Python 3",
   "language": "python",
   "name": "python3"
  },
  "language_info": {
   "codemirror_mode": {
    "name": "ipython",
    "version": 3
   },
   "file_extension": ".py",
   "mimetype": "text/x-python",
   "name": "python",
   "nbconvert_exporter": "python",
   "pygments_lexer": "ipython3",
   "version": "3.8.3-final"
  }
 },
 "nbformat": 4,
 "nbformat_minor": 4
}